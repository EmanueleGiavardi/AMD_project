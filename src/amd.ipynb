{
  "nbformat": 4,
  "nbformat_minor": 0,
  "metadata": {
    "colab": {
      "provenance": [],
      "authorship_tag": "ABX9TyM/NIUITxSUxSVFecgC33Mn",
      "include_colab_link": true
    },
    "kernelspec": {
      "name": "python3",
      "display_name": "Python 3"
    },
    "language_info": {
      "name": "python"
    }
  },
  "cells": [
    {
      "cell_type": "markdown",
      "metadata": {
        "id": "view-in-github",
        "colab_type": "text"
      },
      "source": [
        "<a href=\"https://colab.research.google.com/github/EmanueleGiavardi/AMD_project/blob/main/src/amd.ipynb\" target=\"_parent\"><img src=\"https://colab.research.google.com/assets/colab-badge.svg\" alt=\"Open In Colab\"/></a>"
      ]
    },
    {
      "cell_type": "code",
      "source": [
        "!pip install -q kaggle pyspark"
      ],
      "metadata": {
        "id": "lVpPeMdRyhl-"
      },
      "execution_count": 1,
      "outputs": []
    },
    {
      "cell_type": "code",
      "source": [
        "import pyspark\n",
        "from pyspark.sql import functions as F\n",
        "import pandas as pd\n",
        "import numpy as np\n",
        "import os\n",
        "from google.colab import files\n",
        "from collections import Counter"
      ],
      "metadata": {
        "id": "6c2uPSW2UgA8"
      },
      "execution_count": 2,
      "outputs": []
    },
    {
      "cell_type": "code",
      "source": [
        "# please upload your kaggle.json file here\n",
        "files.upload()\n",
        "!ls -lha kaggle.json\n",
        "!mkdir -p ~/.kaggle\n",
        "!cp kaggle.json ~/.kaggle/\n",
        "!chmod 600 ~/.kaggle/kaggle.json"
      ],
      "metadata": {
        "colab": {
          "base_uri": "https://localhost:8080/",
          "height": 92
        },
        "id": "4HULTI5NxhlD",
        "outputId": "3c849495-04c7-4b8e-c3d7-1a27eda80e5d"
      },
      "execution_count": 3,
      "outputs": [
        {
          "output_type": "display_data",
          "data": {
            "text/plain": [
              "<IPython.core.display.HTML object>"
            ],
            "text/html": [
              "\n",
              "     <input type=\"file\" id=\"files-de77104a-e73e-4531-99cd-ad21eb40baa6\" name=\"files[]\" multiple disabled\n",
              "        style=\"border:none\" />\n",
              "     <output id=\"result-de77104a-e73e-4531-99cd-ad21eb40baa6\">\n",
              "      Upload widget is only available when the cell has been executed in the\n",
              "      current browser session. Please rerun this cell to enable.\n",
              "      </output>\n",
              "      <script>// Copyright 2017 Google LLC\n",
              "//\n",
              "// Licensed under the Apache License, Version 2.0 (the \"License\");\n",
              "// you may not use this file except in compliance with the License.\n",
              "// You may obtain a copy of the License at\n",
              "//\n",
              "//      http://www.apache.org/licenses/LICENSE-2.0\n",
              "//\n",
              "// Unless required by applicable law or agreed to in writing, software\n",
              "// distributed under the License is distributed on an \"AS IS\" BASIS,\n",
              "// WITHOUT WARRANTIES OR CONDITIONS OF ANY KIND, either express or implied.\n",
              "// See the License for the specific language governing permissions and\n",
              "// limitations under the License.\n",
              "\n",
              "/**\n",
              " * @fileoverview Helpers for google.colab Python module.\n",
              " */\n",
              "(function(scope) {\n",
              "function span(text, styleAttributes = {}) {\n",
              "  const element = document.createElement('span');\n",
              "  element.textContent = text;\n",
              "  for (const key of Object.keys(styleAttributes)) {\n",
              "    element.style[key] = styleAttributes[key];\n",
              "  }\n",
              "  return element;\n",
              "}\n",
              "\n",
              "// Max number of bytes which will be uploaded at a time.\n",
              "const MAX_PAYLOAD_SIZE = 100 * 1024;\n",
              "\n",
              "function _uploadFiles(inputId, outputId) {\n",
              "  const steps = uploadFilesStep(inputId, outputId);\n",
              "  const outputElement = document.getElementById(outputId);\n",
              "  // Cache steps on the outputElement to make it available for the next call\n",
              "  // to uploadFilesContinue from Python.\n",
              "  outputElement.steps = steps;\n",
              "\n",
              "  return _uploadFilesContinue(outputId);\n",
              "}\n",
              "\n",
              "// This is roughly an async generator (not supported in the browser yet),\n",
              "// where there are multiple asynchronous steps and the Python side is going\n",
              "// to poll for completion of each step.\n",
              "// This uses a Promise to block the python side on completion of each step,\n",
              "// then passes the result of the previous step as the input to the next step.\n",
              "function _uploadFilesContinue(outputId) {\n",
              "  const outputElement = document.getElementById(outputId);\n",
              "  const steps = outputElement.steps;\n",
              "\n",
              "  const next = steps.next(outputElement.lastPromiseValue);\n",
              "  return Promise.resolve(next.value.promise).then((value) => {\n",
              "    // Cache the last promise value to make it available to the next\n",
              "    // step of the generator.\n",
              "    outputElement.lastPromiseValue = value;\n",
              "    return next.value.response;\n",
              "  });\n",
              "}\n",
              "\n",
              "/**\n",
              " * Generator function which is called between each async step of the upload\n",
              " * process.\n",
              " * @param {string} inputId Element ID of the input file picker element.\n",
              " * @param {string} outputId Element ID of the output display.\n",
              " * @return {!Iterable<!Object>} Iterable of next steps.\n",
              " */\n",
              "function* uploadFilesStep(inputId, outputId) {\n",
              "  const inputElement = document.getElementById(inputId);\n",
              "  inputElement.disabled = false;\n",
              "\n",
              "  const outputElement = document.getElementById(outputId);\n",
              "  outputElement.innerHTML = '';\n",
              "\n",
              "  const pickedPromise = new Promise((resolve) => {\n",
              "    inputElement.addEventListener('change', (e) => {\n",
              "      resolve(e.target.files);\n",
              "    });\n",
              "  });\n",
              "\n",
              "  const cancel = document.createElement('button');\n",
              "  inputElement.parentElement.appendChild(cancel);\n",
              "  cancel.textContent = 'Cancel upload';\n",
              "  const cancelPromise = new Promise((resolve) => {\n",
              "    cancel.onclick = () => {\n",
              "      resolve(null);\n",
              "    };\n",
              "  });\n",
              "\n",
              "  // Wait for the user to pick the files.\n",
              "  const files = yield {\n",
              "    promise: Promise.race([pickedPromise, cancelPromise]),\n",
              "    response: {\n",
              "      action: 'starting',\n",
              "    }\n",
              "  };\n",
              "\n",
              "  cancel.remove();\n",
              "\n",
              "  // Disable the input element since further picks are not allowed.\n",
              "  inputElement.disabled = true;\n",
              "\n",
              "  if (!files) {\n",
              "    return {\n",
              "      response: {\n",
              "        action: 'complete',\n",
              "      }\n",
              "    };\n",
              "  }\n",
              "\n",
              "  for (const file of files) {\n",
              "    const li = document.createElement('li');\n",
              "    li.append(span(file.name, {fontWeight: 'bold'}));\n",
              "    li.append(span(\n",
              "        `(${file.type || 'n/a'}) - ${file.size} bytes, ` +\n",
              "        `last modified: ${\n",
              "            file.lastModifiedDate ? file.lastModifiedDate.toLocaleDateString() :\n",
              "                                    'n/a'} - `));\n",
              "    const percent = span('0% done');\n",
              "    li.appendChild(percent);\n",
              "\n",
              "    outputElement.appendChild(li);\n",
              "\n",
              "    const fileDataPromise = new Promise((resolve) => {\n",
              "      const reader = new FileReader();\n",
              "      reader.onload = (e) => {\n",
              "        resolve(e.target.result);\n",
              "      };\n",
              "      reader.readAsArrayBuffer(file);\n",
              "    });\n",
              "    // Wait for the data to be ready.\n",
              "    let fileData = yield {\n",
              "      promise: fileDataPromise,\n",
              "      response: {\n",
              "        action: 'continue',\n",
              "      }\n",
              "    };\n",
              "\n",
              "    // Use a chunked sending to avoid message size limits. See b/62115660.\n",
              "    let position = 0;\n",
              "    do {\n",
              "      const length = Math.min(fileData.byteLength - position, MAX_PAYLOAD_SIZE);\n",
              "      const chunk = new Uint8Array(fileData, position, length);\n",
              "      position += length;\n",
              "\n",
              "      const base64 = btoa(String.fromCharCode.apply(null, chunk));\n",
              "      yield {\n",
              "        response: {\n",
              "          action: 'append',\n",
              "          file: file.name,\n",
              "          data: base64,\n",
              "        },\n",
              "      };\n",
              "\n",
              "      let percentDone = fileData.byteLength === 0 ?\n",
              "          100 :\n",
              "          Math.round((position / fileData.byteLength) * 100);\n",
              "      percent.textContent = `${percentDone}% done`;\n",
              "\n",
              "    } while (position < fileData.byteLength);\n",
              "  }\n",
              "\n",
              "  // All done.\n",
              "  yield {\n",
              "    response: {\n",
              "      action: 'complete',\n",
              "    }\n",
              "  };\n",
              "}\n",
              "\n",
              "scope.google = scope.google || {};\n",
              "scope.google.colab = scope.google.colab || {};\n",
              "scope.google.colab._files = {\n",
              "  _uploadFiles,\n",
              "  _uploadFilesContinue,\n",
              "};\n",
              "})(self);\n",
              "</script> "
            ]
          },
          "metadata": {}
        },
        {
          "output_type": "stream",
          "name": "stdout",
          "text": [
            "Saving kaggle.json to kaggle.json\n",
            "-rw-r--r-- 1 root root 72 May 27 13:46 kaggle.json\n"
          ]
        }
      ]
    },
    {
      "cell_type": "code",
      "source": [
        "!kaggle datasets download -d \"mohamedbakhet/amazon-books-reviews\"\n",
        "!unzip amazon-books-reviews.zip\n",
        "!rm -r amazon-books-reviews.zip"
      ],
      "metadata": {
        "colab": {
          "base_uri": "https://localhost:8080/"
        },
        "id": "9DpRDvklyoWs",
        "outputId": "b55a0f80-2df6-4893-93cf-63e793b5b2b0"
      },
      "execution_count": 4,
      "outputs": [
        {
          "output_type": "stream",
          "name": "stdout",
          "text": [
            "Dataset URL: https://www.kaggle.com/datasets/mohamedbakhet/amazon-books-reviews\n",
            "License(s): CC0-1.0\n",
            "Downloading amazon-books-reviews.zip to /content\n",
            " 98% 1.04G/1.06G [00:16<00:00, 107MB/s] \n",
            "100% 1.06G/1.06G [00:16<00:00, 69.9MB/s]\n",
            "Archive:  amazon-books-reviews.zip\n",
            "  inflating: Books_rating.csv        \n",
            "  inflating: books_data.csv          \n"
          ]
        }
      ]
    },
    {
      "cell_type": "code",
      "source": [
        "spark = pyspark.sql.SparkSession.builder.master(\"local[*]\").appName(\"AMD_project\").getOrCreate()\n",
        "sc = spark.sparkContext"
      ],
      "metadata": {
        "id": "Zq7n-9Bo0BmL"
      },
      "execution_count": 5,
      "outputs": []
    },
    {
      "cell_type": "code",
      "source": [
        "books_rating_df = spark.read.csv(\"Books_rating.csv\", header=True, inferSchema=True)\n",
        "books_rating_df.printSchema()"
      ],
      "metadata": {
        "id": "P4r1T4pQ9q8z",
        "colab": {
          "base_uri": "https://localhost:8080/"
        },
        "outputId": "f2babde5-485d-49a3-a8d2-531a6e4ddf9d"
      },
      "execution_count": 6,
      "outputs": [
        {
          "output_type": "stream",
          "name": "stdout",
          "text": [
            "root\n",
            " |-- Id: string (nullable = true)\n",
            " |-- Title: string (nullable = true)\n",
            " |-- Price: string (nullable = true)\n",
            " |-- User_id: string (nullable = true)\n",
            " |-- profileName: string (nullable = true)\n",
            " |-- review/helpfulness: string (nullable = true)\n",
            " |-- review/score: string (nullable = true)\n",
            " |-- review/time: string (nullable = true)\n",
            " |-- review/summary: string (nullable = true)\n",
            " |-- review/text: string (nullable = true)\n",
            "\n"
          ]
        }
      ]
    },
    {
      "cell_type": "code",
      "source": [
        "# subsampling\n",
        "\n",
        "random_state = 42\n",
        "count = books_rating_df.count()\n",
        "sampling_frac = 0.01\n",
        "\n",
        "# probabilistic approach: keeps each line with prob = fraction\n",
        "#books_rating_df_sub = books_rating_df.sample(fraction=sampling_frac, seed=random_state)\n",
        "\n",
        "# keeps exactly (sampling_frac * count) lines, assuming books already in casual order\n",
        "books_rating_df_sub = books_rating_df.limit(int(sampling_frac * count))\n",
        "print(f\"sample has {int(sampling_frac * count)} lines\")\n",
        "books_rating_df_sub.show()"
      ],
      "metadata": {
        "id": "vikm8jG7Csce",
        "colab": {
          "base_uri": "https://localhost:8080/"
        },
        "outputId": "67465f47-6dcb-443a-884f-0e59bbbcd392"
      },
      "execution_count": 7,
      "outputs": [
        {
          "output_type": "stream",
          "name": "stdout",
          "text": [
            "sample has 30000 lines\n",
            "+----------+--------------------+-----+--------------+--------------------+------------------+------------+-----------+--------------------+--------------------+\n",
            "|        Id|               Title|Price|       User_id|         profileName|review/helpfulness|review/score|review/time|      review/summary|         review/text|\n",
            "+----------+--------------------+-----+--------------+--------------------+------------------+------------+-----------+--------------------+--------------------+\n",
            "|1882931173|Its Only Art If I...| NULL| AVCGYZL8FQQTD|\"Jim of Oz \"\"jim-...|               7/7|         4.0|  940636800|Nice collection o...|This is only for ...|\n",
            "|0826414346|Dr. Seuss: Americ...| NULL|A30TK6U7DNS82R|       Kevin Killian|             10/10|         5.0| 1095724800|   Really Enjoyed It|I don't care much...|\n",
            "|0826414346|Dr. Seuss: Americ...| NULL|A3UH4UZ4RSVO82|        John Granger|             10/11|         5.0| 1078790400|Essential for eve...|\"If people become...|\n",
            "|0826414346|Dr. Seuss: Americ...| NULL|A2MVUWT453QH61|\"Roy E. Perry \"\"a...|               7/7|         4.0| 1090713600|Phlip Nel gives s...|Theodore Seuss Ge...|\n",
            "|0826414346|Dr. Seuss: Americ...| NULL|A22X4XUPKF66MR|\"D. H. Richards \"...|               3/3|         4.0| 1107993600|Good academic ove...|\"Philip Nel - Dr....|\n",
            "|0826414346|Dr. Seuss: Americ...| NULL|A2F6NONFUDB6UK|              Malvin|               2/2|         4.0| 1127174400|One of America's ...|\"\"\"Dr. Seuss: Ame...|\n",
            "|0826414346|Dr. Seuss: Americ...| NULL|A14OJS0VWMOSWO| Midwest Book Review|               3/4|         5.0| 1100131200|A memorably excel...|Theodor Seuss Gie...|\n",
            "|0826414346|Dr. Seuss: Americ...| NULL|A2RSSXTDZDUSH4|           J. Squire|               0/0|         5.0| 1231200000|Academia At It's ...|\"When I recieved ...|\n",
            "|0826414346|Dr. Seuss: Americ...| NULL|A25MD5I2GUIW6W|\"J. P. HIGBED \"\"b...|               0/0|         5.0| 1209859200|And to think that...|\"Trams (or any pu...|\n",
            "|0826414346|Dr. Seuss: Americ...| NULL|A3VA4XFS5WNJO3|     Donald Burnside|               3/5|         4.0| 1076371200|Fascinating accou...|As far as I am aw...|\n",
            "|0829814000|Wonderful Worship...|19.40| AZ0IOBU20TBOP|  Rev. Pamela Tinnin|              8/10|         5.0|  991440000|Outstanding Resou...|I just finished t...|\n",
            "|0829814000|Wonderful Worship...|19.40|A373VVEU6Z9M0N|Dr. Terry W. Dorsett|               1/1|         5.0| 1291766400|Small Churches CA...|\"Many small churc...|\n",
            "|0829814000|Wonderful Worship...|19.40| AGKGOH65VTRR4|\"Cynthia L. Lajoy...|               1/1|         5.0| 1248307200|Not Just for Past...|I just finished r...|\n",
            "|0829814000|Wonderful Worship...|19.40| A3OQWLU31BU1Y|       Maxwell Grant|               1/1|         5.0| 1222560000|Small church past...|\"I hadn't been a ...|\n",
            "|0595344550|Whispers of the W...|10.95|A3Q12RK71N74LB|         Book Reader|              7/11|         1.0| 1117065600|            not good|I bought this boo...|\n",
            "|0595344550|Whispers of the W...|10.95|A1E9M6APK30ZAU|           V. Powell|               1/2|         4.0| 1119571200|  Here is my opinion|\"I have to admit,...|\n",
            "|0595344550|Whispers of the W...|10.95| AUR0VA5H0C66C|\"LoveToRead \"\"Act...|               1/2|         1.0| 1119225600|        Buyer beware|\"This is a self-p...|\n",
            "|0595344550|Whispers of the W...|10.95|A1YLDZ3VHR6QPZ|               Clara|               2/4|         5.0| 1115942400| Fall on your knee's|When I first read...|\n",
            "|0595344550|Whispers of the W...|10.95| ACO23CG8K8T77|               Tonya|               5/9|         5.0| 1117065600|      Bravo Veronica|I read the review...|\n",
            "|0595344550|Whispers of the W...|10.95|A1VK81CRRC7MLM|\"missyLou \"\"apple\"\"\"|               1/3|         5.0| 1130025600|           Wonderful|\"I really enjoyed...|\n",
            "+----------+--------------------+-----+--------------+--------------------+------------------+------------+-----------+--------------------+--------------------+\n",
            "only showing top 20 rows\n",
            "\n"
          ]
        }
      ]
    },
    {
      "cell_type": "markdown",
      "source": [
        "# **Link Analysis: finding influential/authoritative users**\n",
        "\n",
        "**Graph**:\n",
        "- nodes → users\n",
        "- edges → links between users if two users reviewed the same book\n",
        "\n",
        "the graph is **oriented**, so a link from ```u2``` to ```u1``` exists if ```u1``` and ```u2``` reviewd the same book, but the score (helpfulness) of the ```u1```'s review for that book is higher than the score that ```u2``` obtained for his/her review of that specific book.\n",
        "\n"
      ],
      "metadata": {
        "id": "HwK6MMqmVYXu"
      }
    },
    {
      "cell_type": "markdown",
      "source": [
        "## **Graph creation**\n",
        "\n",
        "given $R$ the review table and given $R' = Π_{Title, User\\_id, helpfulness}(R)$, we create the table\n",
        "\n",
        "$$J = \\sigma_{helpfulness_1 > helpfulness_2}(R' ⨝_{Title} R') $$\n",
        "\n",
        "This table has the schema\n",
        "```\n",
        "root\n",
        " |-- User_id_1\n",
        " |-- Title\n",
        " |-- User_id_2\n",
        " |-- Helpfulness_1\n",
        " |-- Helpfulness_2\n",
        "```\n",
        "and it's build such that both ```User_id_1``` and ```User_id_2``` reviewd the book named with ```Title``` and ```Helpfulness_1``` $>$ ```Helpfulness_2```\n",
        "\n",
        "Starting from this table we create the graph according to the criterium explained above"
      ],
      "metadata": {
        "id": "cIEICSONWmMz"
      }
    },
    {
      "cell_type": "markdown",
      "source": [
        "**NOTE**:\n",
        "\n",
        "the helpfulness score of each review does not share a common scaling (we have things like 0/0, 4/5, 8/10, 78/82 ...)\n",
        "Just for now, the score is simply obtained turning the string \"X/Y\" into a float number and evaluating it.\n",
        "\n",
        "> TODO NEXT: find a cleverer way to deal with helpfulness. The \"X/Y\" could be interpreted as \"people who found the review useful/total people who voted\", even though this is not clear from the dataset specifications (or from the Amazon website). With this assumption, however, it becomes important to take into account the number of people who voted, instead of just considering the fraction of appreciation.\n",
        "\n"
      ],
      "metadata": {
        "id": "r0AuSV2gRkcX"
      }
    },
    {
      "cell_type": "code",
      "source": [
        "from pyspark.sql.functions import split, col, when\n",
        "\n",
        "# TODO: replace with normalized version\n",
        "def get_helpfulness_score(col_name):\n",
        "    num = split(col(col_name), \"/\").getItem(0).cast(\"float\")\n",
        "    den = split(col(col_name), \"/\").getItem(1).cast(\"float\")\n",
        "    return when(den != 0, num / den).otherwise(0.0)\n",
        "\n",
        "R_first = books_rating_df_sub.select([\"Title\", \"User_id\", \"review/helpfulness\"])\n",
        "R1 = R_first.alias(\"R1\")\n",
        "R2 = R_first.alias(\"R2\")\n",
        "\n",
        "J = R1.join(R2, col(\"R1.Title\") == col(\"R2.Title\")) \\\n",
        "      .filter(col(\"R1.User_id\") != col(\"R2.User_id\")) \\\n",
        "      .select(\n",
        "          col(\"R1.Title\").alias(\"Title\"),\n",
        "          col(\"R1.User_id\").alias(\"User_id_1\"),\n",
        "          col(\"R2.User_id\").alias(\"User_id_2\"),\n",
        "          get_helpfulness_score(\"R1.review/helpfulness\").alias(\"helpfulness_1\"),\n",
        "          get_helpfulness_score(\"R2.review/helpfulness\").alias(\"helpfulness_2\")\n",
        "      )\n",
        "\n",
        "J_filtered = J.filter(col(\"helpfulness_1\") > col(\"helpfulness_2\"))\n",
        "\n",
        "# J_filtered schema: | Title | User_id_1 | User_id_2 | helpfulness_1 | helpfulness_2 |"
      ],
      "metadata": {
        "id": "oOoD6bekY-QV"
      },
      "execution_count": 8,
      "outputs": []
    },
    {
      "cell_type": "markdown",
      "source": [
        "The idea now is to associate an **increasing integer value from $0$ to $N-1$** to each one of the $N$ user ids. In this way:\n",
        "- An edge is simply going to be represented as a couple of integers $(i, j)$, where $i$ is the integer value related to the user having the outgoing connection and $j$ us the integer value related to the user having the incoming connection\n",
        "- PageRank values will be stored in a simple array $V$ of $N$ elements, such that $V[i]$ = pageRank value for the user associated to integer value $i$\n",
        "\n"
      ],
      "metadata": {
        "id": "WlQL2g1PTy4m"
      }
    },
    {
      "cell_type": "code",
      "source": [
        "unique_users = J_filtered.select(col(\"User_id_1\").alias(\"User_id\")) \\\n",
        "    .union(J_filtered.select(col(\"User_id_2\").alias(\"User_id\"))) \\\n",
        "    .distinct()\n",
        "\n",
        "# [('user1_id', integer1), ... ('userN_id', integerN)]\n",
        "user_ids_rdd = unique_users.rdd.map(lambda row: row[\"User_id\"]).zipWithIndex()\n",
        "N = user_ids_rdd.count()\n",
        "print(f\"There are {N} unique users\")"
      ],
      "metadata": {
        "colab": {
          "base_uri": "https://localhost:8080/"
        },
        "id": "TrfbBSEf87jY",
        "outputId": "6859e051-a902-45f7-9565-50277508b4a5"
      },
      "execution_count": 9,
      "outputs": [
        {
          "output_type": "stream",
          "name": "stdout",
          "text": [
            "There are 19805 unique users\n"
          ]
        }
      ]
    },
    {
      "cell_type": "markdown",
      "source": [
        "Now there could be two ways of creating the $(i, j)$ couples:\n",
        "1. from ```user_ids_rdd``` a Dataframe with schema ```[User_id, Integer_value]``` could be created, being able to associate each ```Integer_value``` both to ```User_id_1``` and ```User_id_2``` using join operations.\n",
        "2. convert ```user_ids_rdd``` in a dictionary which is broadcasted to every computing node of the cluster, so that becomes easy to retrieve the ```Integer_value``` extracting the value for the specific ```User_id``` key\n",
        "\n",
        "Since the number of unique users is not expected to be _that high_, the second option is chosen"
      ],
      "metadata": {
        "id": "A4lcUPbEW-KF"
      }
    },
    {
      "cell_type": "code",
      "source": [
        "user_ids_dict = user_ids_rdd.collectAsMap()\n",
        "bdcast = sc.broadcast(user_ids_dict)"
      ],
      "metadata": {
        "id": "Jee4fKWYZT50"
      },
      "execution_count": 10,
      "outputs": []
    },
    {
      "cell_type": "code",
      "source": [
        "# list of couples (node_src, node_dst)\n",
        "edges = J_filtered.rdd.map(lambda row : (bdcast.value[row[2]], bdcast.value[row[1]]))"
      ],
      "metadata": {
        "id": "sAzZ-FMaZzcO"
      },
      "execution_count": 11,
      "outputs": []
    },
    {
      "cell_type": "markdown",
      "source": [
        "## **PageRank**"
      ],
      "metadata": {
        "id": "6YWDBT5rnods"
      }
    },
    {
      "cell_type": "markdown",
      "source": [
        "first of all we need to compute the adjacency list, so that we can initialize the transition matrix $M$ so that $M_{ij}$ = $\\frac{1}{α}$, where $\\alpha$ is the number of outgoing edges from node $j$ (if there's a link from $j$ to $i$)"
      ],
      "metadata": {
        "id": "V2d5F62vn--t"
      }
    },
    {
      "cell_type": "code",
      "source": [
        "# TODO: find a more efficient way\n",
        "\n",
        "# list of couples (node_src, [iterable of dst nodes])\n",
        "adjacency_list = edges.groupByKey()"
      ],
      "metadata": {
        "id": "T6V-j6MwpWlo"
      },
      "execution_count": 12,
      "outputs": []
    },
    {
      "cell_type": "markdown",
      "source": [
        "now ```adjacency_list``` is a rdd in which each element is expressed ```(node, [neighbours])```. Since the transition matrix $M$ is heavily sparse, we are going to represent it using triplets $(i, j, M_{ij})$ only if $M_{ij} \\neq 0$\n",
        "\n",
        "**NOTE**: in this setting, we could potentially have many arcs from a certain node $A$ to another node $B$, because there could be many books for which user $B$ wrote a better review than user $A$.\n",
        "\n",
        "The idea in this case is to collapse all the possibile arcs from $A$ to $B$ in a single arc, but weighting the associated pageRank initial value according to the actual number of books for which $B$ obtained a better score with respect to $A$.\n",
        "\n",
        "So triplets are actually stored in the form $((i, j), M_{ij})$, so that it becomes easy to group triples with the same key $(i, j)$ and summing up all the contributes $M_{ij}$ associated with the same src-dest nodes.\n",
        "\n",
        "_Example:_\n",
        "- ```edges = [(A, B), (A, B), (A, C)]```\n",
        "- ```adjacency_list = [A, [B, B, C]]```\n",
        "- ```\n",
        "triplets (before grouping) = [\n",
        "    ((B, A), 1/3)\n",
        "    ((B, A), 1/3)\n",
        "    ((C, A), 1/3)\n",
        "]\n",
        "```\n",
        "- ```\n",
        "triplets (after grouping) = [\n",
        "    ((B, A), 2/3)\n",
        "    ((C, A), 1/3)\n",
        "]\n",
        "```\n",
        "\n"
      ],
      "metadata": {
        "id": "9ZiuQzMfQyik"
      }
    },
    {
      "cell_type": "code",
      "source": [
        "# if el is an element of the adjacency_list rdd,\n",
        "# el[0] => node\n",
        "# el[1] => list of neighbours of that node\n",
        "\n",
        "# NOTE: now the semantics of the triplets is (i, j, Mij) => (dst_node, src_node, value)\n",
        "# it's a bit counterintuitive, but COLUMNS REPRESENT SOURCE NODES, while ROWS REPRESENT DESTINATION NODES\n",
        "\n",
        "triplets = adjacency_list.flatMap(\n",
        "    lambda el: [((neighbour, el[0]), 1.0/len(el[1])) for neighbour in el[1] if len(el[1]) > 0]\n",
        ").reduceByKey(lambda x, y: x + y)"
      ],
      "metadata": {
        "id": "bNF8vdaaSaQr"
      },
      "execution_count": 13,
      "outputs": []
    },
    {
      "cell_type": "code",
      "source": [
        "print(f\"transition graph has {N} nodes and {triplets.count()} edges\")"
      ],
      "metadata": {
        "colab": {
          "base_uri": "https://localhost:8080/"
        },
        "id": "pW9YIo0_TkYL",
        "outputId": "9172025f-b310-42ae-ca83-98f66467be6b"
      },
      "execution_count": 14,
      "outputs": [
        {
          "output_type": "stream",
          "name": "stdout",
          "text": [
            "transition graph has 19805 nodes and 2363186 edges\n"
          ]
        }
      ]
    },
    {
      "cell_type": "code",
      "source": [
        "# mapping back to canonical (i, j, Mij) form, for semplicity (and for coherence with lecture notes)\n",
        "M = triplets.map(lambda triplet: (triplet[0][0], triplet[0][1], triplet[1])).cache()"
      ],
      "metadata": {
        "id": "Ye3YvQlsTdTk"
      },
      "execution_count": 15,
      "outputs": []
    },
    {
      "cell_type": "code",
      "source": [
        "# CHECK: M should be column-wise stochastics, so column values should sum up to 1\n",
        "# m[1] -> column index\n",
        "# m[2] -> initial pageRank score for i, j nodes\n",
        "check = M.map(lambda m: (m[1], m[2])).reduceByKey(lambda x, y: x+y)\n",
        "# now we have key-value pairs such that key => column index j and value = SUM(M[i,j]) for i = 0, ..., # rows - 1.\n",
        "# Check if some values are far from 1 (with a tolerance of epsilon)\n",
        "epsilon = 1e-6\n",
        "far_from_one = check.filter(lambda pair: abs(pair[1] - 1.0) > epsilon).count()\n",
        "if far_from_one == 0: print(f\"M is column-wise stochastics\")\n",
        "else: print(f\"M IS NOT column-wise stochastics: there are {far_from_one} columns that doesn't sum up to 1\")"
      ],
      "metadata": {
        "colab": {
          "base_uri": "https://localhost:8080/"
        },
        "id": "DwiAJ3xapYSw",
        "outputId": "0d484892-7482-4c42-d292-73bdf5a4e12b"
      },
      "execution_count": 16,
      "outputs": [
        {
          "output_type": "stream",
          "name": "stdout",
          "text": [
            "M is column-wise stochastics\n"
          ]
        }
      ]
    },
    {
      "cell_type": "markdown",
      "source": [
        "PageRank (with dumping factor β):\n",
        "$$\n",
        "\\begin{equation}\n",
        "    \\begin{cases}\n",
        "        v(0) = \\frac{1}{N}\\underline{1} \\\\\n",
        "        v(t+1) = \\beta Mv(t) + (1-\\beta)\\frac{1}{N}\\underline{1}  \n",
        "    \\end{cases}\\,\n",
        "\\end{equation}\n",
        "$$"
      ],
      "metadata": {
        "id": "XD4_b0R0NPVG"
      }
    },
    {
      "cell_type": "code",
      "source": [
        "def pageRank(M, v, max_iterations=100, tolerance=10e-5, beta=0.8):\n",
        "    iteration = 0\n",
        "    while iteration < max_iterations:\n",
        "        prev_v = v.copy()\n",
        "\n",
        "        # broadcast v to each node of the cluster\n",
        "        v_bdcast = sc.broadcast(v)\n",
        "\n",
        "        # matrix - vector multiplication (distributed)\n",
        "        pr_scores = M.map(lambda m: (m[0], m[2]*v_bdcast.value[m[1]])).reduceByKey(lambda x, y: x + y).collect()\n",
        "        # update vector v (local)\n",
        "        for (user, pr_score) in pr_scores: v[user] = beta * pr_score + (1 - beta) / N\n",
        "\n",
        "        dist = np.linalg.norm(v - prev_v)\n",
        "\n",
        "        if dist < tolerance:\n",
        "            print(f\"Convergence reached after {iteration} iterations with distance {dist}\")\n",
        "            break\n",
        "\n",
        "        print(f\"iteration {iteration}: distance = {dist}\")\n",
        "        iteration += 1\n",
        "    return v"
      ],
      "metadata": {
        "id": "tvaE9eQ206Kz"
      },
      "execution_count": 17,
      "outputs": []
    },
    {
      "cell_type": "code",
      "source": [
        "%%time\n",
        "v = np.ones(N) / N\n",
        "\n",
        "max_iterations = 100\n",
        "tolerance = 10e-5\n",
        "beta = 0.8\n",
        "\n",
        "pg_scores = pageRank(M, v, max_iterations=max_iterations, tolerance=tolerance, beta=beta)"
      ],
      "metadata": {
        "colab": {
          "base_uri": "https://localhost:8080/"
        },
        "id": "oMEdVy7kRfJi",
        "outputId": "36465dfe-b9bb-4ec7-91bb-3e7c4ce2613e"
      },
      "execution_count": 18,
      "outputs": [
        {
          "output_type": "stream",
          "name": "stdout",
          "text": [
            "iteration 0: distance = 0.004378351578260732\n",
            "iteration 1: distance = 0.0012486793866387242\n",
            "iteration 2: distance = 0.0004592276737175906\n",
            "iteration 3: distance = 0.00019026002316278973\n",
            "Convergence reached after 4 iterations with distance 9.717611160447834e-05\n",
            "CPU times: user 604 ms, sys: 35.2 ms, total: 639 ms\n",
            "Wall time: 23.9 s\n"
          ]
        }
      ]
    },
    {
      "cell_type": "code",
      "source": [
        "k = 10\n",
        "pagerank_top_k_users = np.argsort(v)[-k:][::-1]\n",
        "print(f\"PageRank top {k} users\")\n",
        "for user in pagerank_top_k_users: print(f\"user id: {user} -> PageRank score: {v[user]}\")"
      ],
      "metadata": {
        "colab": {
          "base_uri": "https://localhost:8080/"
        },
        "id": "OmGtf3XTd61u",
        "outputId": "bd54f7d3-8fd3-4007-c729-acec05e006bd"
      },
      "execution_count": 19,
      "outputs": [
        {
          "output_type": "stream",
          "name": "stdout",
          "text": [
            "PageRank top 10 users\n",
            "user id: 355 -> PageRank score: 0.0012879361104911901\n",
            "user id: 8200 -> PageRank score: 0.0010348264032224838\n",
            "user id: 10201 -> PageRank score: 0.000917504965790506\n",
            "user id: 2606 -> PageRank score: 0.0007770332402310654\n",
            "user id: 1324 -> PageRank score: 0.0007440237026176751\n",
            "user id: 2286 -> PageRank score: 0.0006381254881183264\n",
            "user id: 12180 -> PageRank score: 0.0005981284372064497\n",
            "user id: 3703 -> PageRank score: 0.0005767757737014898\n",
            "user id: 5806 -> PageRank score: 0.0005522109000103358\n",
            "user id: 1452 -> PageRank score: 0.0005005317758968959\n"
          ]
        }
      ]
    },
    {
      "cell_type": "markdown",
      "source": [
        "## **Topic Sensitive Page Rank**\n",
        "\n",
        "Since we have informations about the literary genre of each book, it could be interesting to find the most authoritative/influential users in a certain genre-related community (for instance users passionate about fantasy or noir books)\n",
        "\n",
        "In order to associate each user to a preferred genre, I simply take the most reviewd literary genre by the user"
      ],
      "metadata": {
        "id": "V_-4n0EXJqoq"
      }
    },
    {
      "cell_type": "code",
      "source": [
        "books_data_df = spark.read.csv(\"books_data.csv\", header=True, inferSchema=True)\n",
        "books_data_df.printSchema()"
      ],
      "metadata": {
        "id": "D6A1RwUbL_v_",
        "outputId": "2152d45b-05c5-4fd9-a218-1941b51e9f07",
        "colab": {
          "base_uri": "https://localhost:8080/"
        }
      },
      "execution_count": 24,
      "outputs": [
        {
          "output_type": "stream",
          "name": "stdout",
          "text": [
            "root\n",
            " |-- Title: string (nullable = true)\n",
            " |-- description: string (nullable = true)\n",
            " |-- authors: string (nullable = true)\n",
            " |-- image: string (nullable = true)\n",
            " |-- previewLink: string (nullable = true)\n",
            " |-- publisher: string (nullable = true)\n",
            " |-- publishedDate: string (nullable = true)\n",
            " |-- infoLink: string (nullable = true)\n",
            " |-- categories: string (nullable = true)\n",
            " |-- ratingsCount: string (nullable = true)\n",
            "\n"
          ]
        }
      ]
    },
    {
      "cell_type": "code",
      "source": [
        "T1 = books_rating_df_sub.select(col(\"User_id\"), col(\"Title\")).alias(\"T1\")\n",
        "T2 = books_data_df.select(col(\"Title\"), col(\"categories\")).alias(\"T2\")\n",
        "\n",
        "preferred_genres = T1.join(T2, T1.Title == T2.Title).select(\"User_id\", \"T1.Title\", \"categories\")\n",
        "preferred_genres.take(10)"
      ],
      "metadata": {
        "id": "Bx4GKaNmMdOo",
        "outputId": "8baa9111-aab7-4d3d-ead7-c6b5285b5210",
        "colab": {
          "base_uri": "https://localhost:8080/"
        }
      },
      "execution_count": 45,
      "outputs": [
        {
          "output_type": "execute_result",
          "data": {
            "text/plain": [
              "[Row(User_id='AVCGYZL8FQQTD', Title='Its Only Art If Its Well Hung!', categories=\"['Comics & Graphic Novels']\"),\n",
              " Row(User_id='A3VA4XFS5WNJO3', Title='Dr. Seuss: American Icon', categories='http://books.google.nl/books?id=IjvHQsCn_pgC&printsec=frontcover&dq=Dr.+Seuss:+American+Icon&hl=&cd=1&source=gbs_api'),\n",
              " Row(User_id='A25MD5I2GUIW6W', Title='Dr. Seuss: American Icon', categories='http://books.google.nl/books?id=IjvHQsCn_pgC&printsec=frontcover&dq=Dr.+Seuss:+American+Icon&hl=&cd=1&source=gbs_api'),\n",
              " Row(User_id='A2RSSXTDZDUSH4', Title='Dr. Seuss: American Icon', categories='http://books.google.nl/books?id=IjvHQsCn_pgC&printsec=frontcover&dq=Dr.+Seuss:+American+Icon&hl=&cd=1&source=gbs_api'),\n",
              " Row(User_id='A14OJS0VWMOSWO', Title='Dr. Seuss: American Icon', categories='http://books.google.nl/books?id=IjvHQsCn_pgC&printsec=frontcover&dq=Dr.+Seuss:+American+Icon&hl=&cd=1&source=gbs_api'),\n",
              " Row(User_id='A2F6NONFUDB6UK', Title='Dr. Seuss: American Icon', categories='http://books.google.nl/books?id=IjvHQsCn_pgC&printsec=frontcover&dq=Dr.+Seuss:+American+Icon&hl=&cd=1&source=gbs_api'),\n",
              " Row(User_id='A22X4XUPKF66MR', Title='Dr. Seuss: American Icon', categories='http://books.google.nl/books?id=IjvHQsCn_pgC&printsec=frontcover&dq=Dr.+Seuss:+American+Icon&hl=&cd=1&source=gbs_api'),\n",
              " Row(User_id='A2MVUWT453QH61', Title='Dr. Seuss: American Icon', categories='http://books.google.nl/books?id=IjvHQsCn_pgC&printsec=frontcover&dq=Dr.+Seuss:+American+Icon&hl=&cd=1&source=gbs_api'),\n",
              " Row(User_id='A3UH4UZ4RSVO82', Title='Dr. Seuss: American Icon', categories='http://books.google.nl/books?id=IjvHQsCn_pgC&printsec=frontcover&dq=Dr.+Seuss:+American+Icon&hl=&cd=1&source=gbs_api'),\n",
              " Row(User_id='A30TK6U7DNS82R', Title='Dr. Seuss: American Icon', categories='http://books.google.nl/books?id=IjvHQsCn_pgC&printsec=frontcover&dq=Dr.+Seuss:+American+Icon&hl=&cd=1&source=gbs_api')]"
            ]
          },
          "metadata": {},
          "execution_count": 45
        }
      ]
    },
    {
      "cell_type": "code",
      "source": [
        "from pyspark.sql.functions import from_json\n",
        "from pyspark.sql.types import ArrayType, StringType\n",
        "\n",
        "schema = ArrayType(StringType())\n",
        "\n",
        "cat = books_data_df.filter((col(\"categories\").isNotNull()) & (col(\"categories\").rlike(r\"^\\[.*\\]$\"))).withColumn(\"genres\", from_json(\"categories\", schema)).select(\"Title\", \"genres\")\n",
        "cat.take(50)"
      ],
      "metadata": {
        "id": "UbhzMATcP-up",
        "outputId": "aeb99f42-4a0d-4ea0-f256-2d52d86804e7",
        "colab": {
          "base_uri": "https://localhost:8080/"
        }
      },
      "execution_count": 65,
      "outputs": [
        {
          "output_type": "execute_result",
          "data": {
            "text/plain": [
              "[Row(Title='Its Only Art If Its Well Hung!', genres=['Comics & Graphic Novels']),\n",
              " Row(Title='Wonderful Worship in Smaller Churches', genres=['Religion']),\n",
              " Row(Title='Whispers of the Wicked Saints', genres=['Fiction']),\n",
              " Row(Title='The Church of Christ: A Biblical Ecclesiology for Today', genres=['Religion']),\n",
              " Row(Title='Saint Hyacinth of Poland', genres=['Biography & Autobiography']),\n",
              " Row(Title=\"Rising Sons and Daughters: Life Among Japan's New Young\", genres=['Social Science']),\n",
              " Row(Title=\"Muslim Women's Choices: Religious Belief and Social Reality (Cross Cultural Perspectives on Women)\", genres=['Religion']),\n",
              " Row(Title='Dramatica for Screenwriters', genres=['Reference']),\n",
              " Row(Title='Mensa Number Puzzles (Mensa Word Games for Kids)', genres=['Juvenile Nonfiction']),\n",
              " Row(Title='Vector Quantization and Signal Compression (The Springer International Series in Engineering and Computer Science)', genres=['Allen Gersho', 'Robert M. Gray']),\n",
              " Row(Title='A husband for Kutani', genres=['History']),\n",
              " Row(Title='Gold and greenstone', genres=['New Zealand fiction']),\n",
              " Row(Title='\"The Ultimate Guide to Law School Admission: Insider Secrets for Getting a \"\"Big Envelope\"\" with Your Acceptance to Law School!\"', genres=['Law']),\n",
              " Row(Title=\"Overcoming Hypertension (Dr. Kenneth H. Cooper's Preventive Medicine Program)\", genres=['Health & Fitness']),\n",
              " Row(Title='The Oxford Handbook of Free Will (Oxford Handbooks)', genres=['Philosophy']),\n",
              " Row(Title='Eyewitness Travel Guide to Europe', genres=['Europe']),\n",
              " Row(Title='Hunting The Hard Way', genres=['Sports & Recreation']),\n",
              " Row(Title='Homer or Moses?: Early Christian Interpretations of the History of Culture (Hermeneutische Untersuchungen zur Theologie)', genres=['Religion']),\n",
              " Row(Title='Paolo Di Canio Hb', genres=['Psychology']),\n",
              " Row(Title='Ricky Williams: Dreadlocks to Ditka', genres=['Sports & Recreation']),\n",
              " Row(Title='Voices from the Farm: Adventures in Community Living', genres=['Biography & Autobiography']),\n",
              " Row(Title='Little One, Maid of Israel', genres=['Bible stories, English']),\n",
              " Row(Title='The Battleship Bismarck', genres=['History']),\n",
              " Row(Title='Treat yourself to life', genres=['New Thought']),\n",
              " Row(Title='The Complete Book of Papercrafts: A Truly ComprehensiveCollection of Papercrafts Ideas, Designs and Techniques, with Over 300 Projects', genres=['Crafts & Hobbies']),\n",
              " Row(Title='By Honor Bound (The Lassiter Law) (Silhouette Intimate Moments)', genres=['Language Arts & Disciplines']),\n",
              " Row(Title='Guide to Owning a Birman Cat (Popular Cat Library)', genres=['Juvenile Nonfiction']),\n",
              " Row(Title='The Handbook of Community Practice', genres=['Social Science']),\n",
              " Row(Title='Tess and the Highlander', genres=['Juvenile Fiction']),\n",
              " Row(Title='King James: Believe the Hype---The LeBron James Story', genres=['Sports & Recreation']),\n",
              " Row(Title='Building the timber frame house: The revival of a forgotten craft', genres=['Architecture']),\n",
              " Row(Title='Eight Men And A Lady (Elizabeth Sinclair, Harlequin American Romance, No. 677)', genres=['Fiction']),\n",
              " Row(Title='Pyrography Designs', genres=['Art']),\n",
              " Row(Title='The ancient constitution and the feudal law,: A study of English historical thought in the seventeenth century', genres=['History']),\n",
              " Row(Title='Anna Karenina. (Lernmaterialien)', genres=['Fiction']),\n",
              " Row(Title='Seance', genres=['Fiction']),\n",
              " Row(Title='Victoria Magazine July 1994', genres=['Literary Collections']),\n",
              " Row(Title='The Ground and Grammar of Theology', genres=['Religion']),\n",
              " Row(Title='Mary, Mary', genres=['Merchant marine']),\n",
              " Row(Title='No place to cry: The hurt and healing of sexual abuse', genres=['Religion']),\n",
              " Row(Title='Trouble on Titan', genres=['Fiction']),\n",
              " Row(Title='Voices from the tapes; recordings from the other world', genres=['Spiritualism']),\n",
              " Row(Title='Grants and Awards Available to American Writers (Grants and Awards Available to American Writers, 21st ed)', genres=['America']),\n",
              " Row(Title=\"Communicating with Orcas - The Whales' Perspective\", genres=['Local author']),\n",
              " Row(Title='Academic Freedom after September 11', genres=['Law']),\n",
              " Row(Title=\"The Impatient Gardener's Lawn Book\", genres=['Gardening']),\n",
              " Row(Title='Hidden History of the Kovno Ghetto', genres=['Holocaust, Jewish (1939-1945)']),\n",
              " Row(Title='The Complete Illustrated Guide to Chinese Medicine: A Comprehensive System for Health and Fitness', genres=['Health & Fitness']),\n",
              " Row(Title='THE SECULAR CITY -SECULARIZATION AND URBANIZATION IN THEOLOGICAL PERSPECTIVE', genres=['Religion']),\n",
              " Row(Title='Audi Quattro: The Complete Story', genres=['Sports & Recreation'])]"
            ]
          },
          "metadata": {},
          "execution_count": 65
        }
      ]
    },
    {
      "cell_type": "markdown",
      "source": [
        "## **HITS (Hubbs and Authorities)**"
      ],
      "metadata": {
        "id": "cMw_vvZRxZ3B"
      }
    },
    {
      "cell_type": "markdown",
      "source": [
        "For this algorithm we need two matrices, build from the graph:\n",
        "1. $L$, a $N \\times N$ matrix in which $L_{ij} = 1$ if there's a link from node $i$ to node $j$ in the graph, $0$ otherwise\n",
        "2. $L^T$, a $N \\times N$ matrix in which $L_{ij} = 1$ if there's a link from node $j$ to node $i$ in the graph, $0$ otherwise"
      ],
      "metadata": {
        "id": "tJUP39mexi6v"
      }
    },
    {
      "cell_type": "code",
      "source": [
        "# edges contains couples (node_src, node_dst), so it's easy to represent both L and its transposed in triplets form starting from edges\n",
        "L = edges.map(lambda couple: (couple[0], couple[1], 1.0)).cache()\n",
        "L_T = edges.map(lambda couple: (couple[1], couple[0], 1.0)).cache()"
      ],
      "metadata": {
        "id": "m7iDVZ2M0-z1"
      },
      "execution_count": 20,
      "outputs": []
    },
    {
      "cell_type": "code",
      "source": [
        "def HITS(L, L_T, authorities, hubs, max_iterations=100, tolerance=10e-5, beta=0.8):\n",
        "    iteration = 0\n",
        "    while iteration < max_iterations:\n",
        "        prev_hubs = hubs.copy()\n",
        "        prev_authorities = authorities.copy()\n",
        "\n",
        "        # broadcast hubs and authorities to each node of the cluster\n",
        "        hubs_bdcast = sc.broadcast(hubs)\n",
        "        authorities_bdcast = sc.broadcast(authorities)\n",
        "\n",
        "\n",
        "        # AUTHORITIES UPDATE\n",
        "        # matrix - vector multiplication (distributed)\n",
        "        authority_scores = L_T.map(lambda l: (l[0], l[2]*hubs_bdcast.value[l[1]])).reduceByKey(lambda x, y: x + y).collect()\n",
        "        # update authorities vector (local)\n",
        "        for (user, auth_score) in authority_scores: authorities[user] = auth_score\n",
        "        # authorities vector normalization\n",
        "        authorities /= np.linalg.norm(authorities)\n",
        "\n",
        "        # HUBS UPDATE\n",
        "        # matrix - vector multiplication (distributed)\n",
        "        hubs_scores = L.map(lambda l: (l[0], l[2]*authorities_bdcast.value[l[1]])).reduceByKey(lambda x, y: x + y).collect()\n",
        "        # update hubs vector (local)\n",
        "        for (user, hub_score) in hubs_scores: hubs[user] = hub_score\n",
        "        # hubs vector normalization\n",
        "        hubs /= np.linalg.norm(hubs)\n",
        "\n",
        "        hub_dist = np.linalg.norm(hubs - prev_hubs)\n",
        "        auth_dist = np.linalg.norm(authorities - prev_authorities)\n",
        "\n",
        "        if hub_dist < tolerance and auth_dist < tolerance:\n",
        "            print(f\"Convergence reached after {iteration} iterations with hubs distance = {hub_dist} | authorities distance = {auth_dist}\")\n",
        "            break\n",
        "        print(f\"iteration {iteration}: hubs distance = {hub_dist} | authorities distance = {auth_dist}\")\n",
        "\n",
        "        iteration += 1\n",
        "\n",
        "    return authorities, hubs"
      ],
      "metadata": {
        "id": "i9p6O7wQ2r-S"
      },
      "execution_count": 21,
      "outputs": []
    },
    {
      "cell_type": "code",
      "source": [
        "%%time\n",
        "\n",
        "# authority and hub vectors are indexed with users\n",
        "authorities = np.ones(N)\n",
        "hubs = np.ones(N)\n",
        "\n",
        "#authorities, hubs = HITS(L, L_T, authorities, hubs)"
      ],
      "metadata": {
        "colab": {
          "base_uri": "https://localhost:8080/"
        },
        "id": "prOFkeT914nv",
        "outputId": "eb9e62c7-aaea-46fe-c29c-dc6c65019358"
      },
      "execution_count": 22,
      "outputs": [
        {
          "output_type": "stream",
          "name": "stdout",
          "text": [
            "CPU times: user 94 µs, sys: 0 ns, total: 94 µs\n",
            "Wall time: 97.3 µs\n"
          ]
        }
      ]
    },
    {
      "cell_type": "code",
      "source": [
        "#HITS_top_k_users = np.argsort(authorities)[-k:][::-1]\n",
        "#print(f\"HITS top {k} users\")\n",
        "#for user in HITS_top_k_users: print(f\"user id: {user} -> Authority score: {authorities[user]}\")"
      ],
      "metadata": {
        "id": "XJF287nNZzSW"
      },
      "execution_count": 23,
      "outputs": []
    }
  ]
}