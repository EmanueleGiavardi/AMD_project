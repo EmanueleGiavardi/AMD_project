{
  "nbformat": 4,
  "nbformat_minor": 0,
  "metadata": {
    "colab": {
      "provenance": [],
      "authorship_tag": "ABX9TyO+EMA8zTRVxztwm0FAyWW1",
      "include_colab_link": true
    },
    "kernelspec": {
      "name": "python3",
      "display_name": "Python 3"
    },
    "language_info": {
      "name": "python"
    }
  },
  "cells": [
    {
      "cell_type": "markdown",
      "metadata": {
        "id": "view-in-github",
        "colab_type": "text"
      },
      "source": [
        "<a href=\"https://colab.research.google.com/github/EmanueleGiavardi/AMD_project/blob/main/src/amd.ipynb\" target=\"_parent\"><img src=\"https://colab.research.google.com/assets/colab-badge.svg\" alt=\"Open In Colab\"/></a>"
      ]
    },
    {
      "cell_type": "code",
      "source": [
        "!pip install -q kaggle pyspark"
      ],
      "metadata": {
        "id": "lVpPeMdRyhl-"
      },
      "execution_count": 3,
      "outputs": []
    },
    {
      "cell_type": "code",
      "source": [
        "import pyspark\n",
        "from pyspark.sql import functions as F\n",
        "import pandas as pd\n",
        "import numpy as np\n",
        "import os\n",
        "from google.colab import files\n",
        "from collections import Counter"
      ],
      "metadata": {
        "id": "6c2uPSW2UgA8"
      },
      "execution_count": 4,
      "outputs": []
    },
    {
      "cell_type": "code",
      "source": [
        "# handling kaggle.json file\n",
        "\n",
        "files.upload()\n",
        "!ls -lha kaggle.json\n",
        "!mkdir -p ~/.kaggle\n",
        "!cp kaggle.json ~/.kaggle/\n",
        "!chmod 600 ~/.kaggle/kaggle.json"
      ],
      "metadata": {
        "colab": {
          "base_uri": "https://localhost:8080/",
          "height": 92
        },
        "id": "4HULTI5NxhlD",
        "outputId": "7e8f12b1-7437-4aa2-9262-3657b88e59ff"
      },
      "execution_count": 5,
      "outputs": [
        {
          "output_type": "display_data",
          "data": {
            "text/plain": [
              "<IPython.core.display.HTML object>"
            ],
            "text/html": [
              "\n",
              "     <input type=\"file\" id=\"files-fb173123-3188-4134-879f-426b951d1197\" name=\"files[]\" multiple disabled\n",
              "        style=\"border:none\" />\n",
              "     <output id=\"result-fb173123-3188-4134-879f-426b951d1197\">\n",
              "      Upload widget is only available when the cell has been executed in the\n",
              "      current browser session. Please rerun this cell to enable.\n",
              "      </output>\n",
              "      <script>// Copyright 2017 Google LLC\n",
              "//\n",
              "// Licensed under the Apache License, Version 2.0 (the \"License\");\n",
              "// you may not use this file except in compliance with the License.\n",
              "// You may obtain a copy of the License at\n",
              "//\n",
              "//      http://www.apache.org/licenses/LICENSE-2.0\n",
              "//\n",
              "// Unless required by applicable law or agreed to in writing, software\n",
              "// distributed under the License is distributed on an \"AS IS\" BASIS,\n",
              "// WITHOUT WARRANTIES OR CONDITIONS OF ANY KIND, either express or implied.\n",
              "// See the License for the specific language governing permissions and\n",
              "// limitations under the License.\n",
              "\n",
              "/**\n",
              " * @fileoverview Helpers for google.colab Python module.\n",
              " */\n",
              "(function(scope) {\n",
              "function span(text, styleAttributes = {}) {\n",
              "  const element = document.createElement('span');\n",
              "  element.textContent = text;\n",
              "  for (const key of Object.keys(styleAttributes)) {\n",
              "    element.style[key] = styleAttributes[key];\n",
              "  }\n",
              "  return element;\n",
              "}\n",
              "\n",
              "// Max number of bytes which will be uploaded at a time.\n",
              "const MAX_PAYLOAD_SIZE = 100 * 1024;\n",
              "\n",
              "function _uploadFiles(inputId, outputId) {\n",
              "  const steps = uploadFilesStep(inputId, outputId);\n",
              "  const outputElement = document.getElementById(outputId);\n",
              "  // Cache steps on the outputElement to make it available for the next call\n",
              "  // to uploadFilesContinue from Python.\n",
              "  outputElement.steps = steps;\n",
              "\n",
              "  return _uploadFilesContinue(outputId);\n",
              "}\n",
              "\n",
              "// This is roughly an async generator (not supported in the browser yet),\n",
              "// where there are multiple asynchronous steps and the Python side is going\n",
              "// to poll for completion of each step.\n",
              "// This uses a Promise to block the python side on completion of each step,\n",
              "// then passes the result of the previous step as the input to the next step.\n",
              "function _uploadFilesContinue(outputId) {\n",
              "  const outputElement = document.getElementById(outputId);\n",
              "  const steps = outputElement.steps;\n",
              "\n",
              "  const next = steps.next(outputElement.lastPromiseValue);\n",
              "  return Promise.resolve(next.value.promise).then((value) => {\n",
              "    // Cache the last promise value to make it available to the next\n",
              "    // step of the generator.\n",
              "    outputElement.lastPromiseValue = value;\n",
              "    return next.value.response;\n",
              "  });\n",
              "}\n",
              "\n",
              "/**\n",
              " * Generator function which is called between each async step of the upload\n",
              " * process.\n",
              " * @param {string} inputId Element ID of the input file picker element.\n",
              " * @param {string} outputId Element ID of the output display.\n",
              " * @return {!Iterable<!Object>} Iterable of next steps.\n",
              " */\n",
              "function* uploadFilesStep(inputId, outputId) {\n",
              "  const inputElement = document.getElementById(inputId);\n",
              "  inputElement.disabled = false;\n",
              "\n",
              "  const outputElement = document.getElementById(outputId);\n",
              "  outputElement.innerHTML = '';\n",
              "\n",
              "  const pickedPromise = new Promise((resolve) => {\n",
              "    inputElement.addEventListener('change', (e) => {\n",
              "      resolve(e.target.files);\n",
              "    });\n",
              "  });\n",
              "\n",
              "  const cancel = document.createElement('button');\n",
              "  inputElement.parentElement.appendChild(cancel);\n",
              "  cancel.textContent = 'Cancel upload';\n",
              "  const cancelPromise = new Promise((resolve) => {\n",
              "    cancel.onclick = () => {\n",
              "      resolve(null);\n",
              "    };\n",
              "  });\n",
              "\n",
              "  // Wait for the user to pick the files.\n",
              "  const files = yield {\n",
              "    promise: Promise.race([pickedPromise, cancelPromise]),\n",
              "    response: {\n",
              "      action: 'starting',\n",
              "    }\n",
              "  };\n",
              "\n",
              "  cancel.remove();\n",
              "\n",
              "  // Disable the input element since further picks are not allowed.\n",
              "  inputElement.disabled = true;\n",
              "\n",
              "  if (!files) {\n",
              "    return {\n",
              "      response: {\n",
              "        action: 'complete',\n",
              "      }\n",
              "    };\n",
              "  }\n",
              "\n",
              "  for (const file of files) {\n",
              "    const li = document.createElement('li');\n",
              "    li.append(span(file.name, {fontWeight: 'bold'}));\n",
              "    li.append(span(\n",
              "        `(${file.type || 'n/a'}) - ${file.size} bytes, ` +\n",
              "        `last modified: ${\n",
              "            file.lastModifiedDate ? file.lastModifiedDate.toLocaleDateString() :\n",
              "                                    'n/a'} - `));\n",
              "    const percent = span('0% done');\n",
              "    li.appendChild(percent);\n",
              "\n",
              "    outputElement.appendChild(li);\n",
              "\n",
              "    const fileDataPromise = new Promise((resolve) => {\n",
              "      const reader = new FileReader();\n",
              "      reader.onload = (e) => {\n",
              "        resolve(e.target.result);\n",
              "      };\n",
              "      reader.readAsArrayBuffer(file);\n",
              "    });\n",
              "    // Wait for the data to be ready.\n",
              "    let fileData = yield {\n",
              "      promise: fileDataPromise,\n",
              "      response: {\n",
              "        action: 'continue',\n",
              "      }\n",
              "    };\n",
              "\n",
              "    // Use a chunked sending to avoid message size limits. See b/62115660.\n",
              "    let position = 0;\n",
              "    do {\n",
              "      const length = Math.min(fileData.byteLength - position, MAX_PAYLOAD_SIZE);\n",
              "      const chunk = new Uint8Array(fileData, position, length);\n",
              "      position += length;\n",
              "\n",
              "      const base64 = btoa(String.fromCharCode.apply(null, chunk));\n",
              "      yield {\n",
              "        response: {\n",
              "          action: 'append',\n",
              "          file: file.name,\n",
              "          data: base64,\n",
              "        },\n",
              "      };\n",
              "\n",
              "      let percentDone = fileData.byteLength === 0 ?\n",
              "          100 :\n",
              "          Math.round((position / fileData.byteLength) * 100);\n",
              "      percent.textContent = `${percentDone}% done`;\n",
              "\n",
              "    } while (position < fileData.byteLength);\n",
              "  }\n",
              "\n",
              "  // All done.\n",
              "  yield {\n",
              "    response: {\n",
              "      action: 'complete',\n",
              "    }\n",
              "  };\n",
              "}\n",
              "\n",
              "scope.google = scope.google || {};\n",
              "scope.google.colab = scope.google.colab || {};\n",
              "scope.google.colab._files = {\n",
              "  _uploadFiles,\n",
              "  _uploadFilesContinue,\n",
              "};\n",
              "})(self);\n",
              "</script> "
            ]
          },
          "metadata": {}
        },
        {
          "output_type": "stream",
          "name": "stdout",
          "text": [
            "Saving kaggle.json to kaggle.json\n",
            "-rw-r--r-- 1 root root 72 May 22 09:28 kaggle.json\n"
          ]
        }
      ]
    },
    {
      "cell_type": "code",
      "source": [
        "!kaggle datasets download -d \"mohamedbakhet/amazon-books-reviews\"\n",
        "!unzip amazon-books-reviews.zip\n",
        "!rm -r amazon-books-reviews.zip"
      ],
      "metadata": {
        "colab": {
          "base_uri": "https://localhost:8080/"
        },
        "id": "9DpRDvklyoWs",
        "outputId": "5424b9e1-94fd-431a-d3c7-6018022097aa"
      },
      "execution_count": 6,
      "outputs": [
        {
          "output_type": "stream",
          "name": "stdout",
          "text": [
            "Dataset URL: https://www.kaggle.com/datasets/mohamedbakhet/amazon-books-reviews\n",
            "License(s): CC0-1.0\n",
            "Downloading amazon-books-reviews.zip to /content\n",
            " 98% 1.04G/1.06G [00:06<00:00, 197MB/s]\n",
            "100% 1.06G/1.06G [00:06<00:00, 177MB/s]\n",
            "Archive:  amazon-books-reviews.zip\n",
            "  inflating: Books_rating.csv        \n",
            "  inflating: books_data.csv          \n"
          ]
        }
      ]
    },
    {
      "cell_type": "code",
      "source": [
        "spark = pyspark.sql.SparkSession.builder.master(\"local[*]\").appName(\"AMD_project\").getOrCreate()\n",
        "sc = spark.sparkContext"
      ],
      "metadata": {
        "id": "Zq7n-9Bo0BmL"
      },
      "execution_count": 7,
      "outputs": []
    },
    {
      "cell_type": "code",
      "source": [
        "books_rating_df = spark.read.csv(\"Books_rating.csv\", header=True, inferSchema=True)\n",
        "books_rating_df.printSchema()"
      ],
      "metadata": {
        "id": "P4r1T4pQ9q8z",
        "colab": {
          "base_uri": "https://localhost:8080/"
        },
        "outputId": "5dc2e7e0-0d3f-4cb0-eed4-675cb28fd43d"
      },
      "execution_count": 8,
      "outputs": [
        {
          "output_type": "stream",
          "name": "stdout",
          "text": [
            "root\n",
            " |-- Id: string (nullable = true)\n",
            " |-- Title: string (nullable = true)\n",
            " |-- Price: string (nullable = true)\n",
            " |-- User_id: string (nullable = true)\n",
            " |-- profileName: string (nullable = true)\n",
            " |-- review/helpfulness: string (nullable = true)\n",
            " |-- review/score: string (nullable = true)\n",
            " |-- review/time: string (nullable = true)\n",
            " |-- review/summary: string (nullable = true)\n",
            " |-- review/text: string (nullable = true)\n",
            "\n"
          ]
        }
      ]
    },
    {
      "cell_type": "code",
      "source": [
        "# subsampling\n",
        "\n",
        "random_state = 42\n",
        "count = books_rating_df.count()\n",
        "sampling_frac = 0.01\n",
        "\n",
        "# probabilistic approach: keeps each line with prob = fraction\n",
        "#books_rating_df_sub = books_rating_df.sample(fraction=sampling_frac, seed=random_state)\n",
        "\n",
        "# keeps exactly (sampling_frac * count) lines, assuming books already in casual order\n",
        "books_rating_df_sub = books_rating_df.limit(int(sampling_frac * count))\n",
        "print(f\"sample has {int(sampling_frac * count)} lines\")"
      ],
      "metadata": {
        "id": "vikm8jG7Csce",
        "colab": {
          "base_uri": "https://localhost:8080/"
        },
        "outputId": "b2da00d4-1ed6-4c20-bb70-af9918c20bda"
      },
      "execution_count": 58,
      "outputs": [
        {
          "output_type": "stream",
          "name": "stdout",
          "text": [
            "sample has 30000 lines\n"
          ]
        }
      ]
    },
    {
      "cell_type": "markdown",
      "source": [
        "### **Exercise**\n",
        "word occurrences in reviews summary"
      ],
      "metadata": {
        "id": "WrmHA-BAOVQy"
      }
    },
    {
      "cell_type": "code",
      "source": [
        "import re\n",
        "\n",
        "def normalize_string(s):\n",
        "    #s = re.sub('[^A-Za-z0-9]+', '', s)\n",
        "    return s.lower().split(\" \")"
      ],
      "metadata": {
        "id": "LDuTcHRlJ5ib"
      },
      "execution_count": 10,
      "outputs": []
    },
    {
      "cell_type": "code",
      "source": [
        "# map takes a function which take as input the ATOMIC INFORMATION of the rdd\n",
        "# in this case: books_rating_df_sub.select(\"review/summary\").rdd creates a new Spark Dataframe containing just the \"review/summary\" column and converts it into a rdd\n",
        "# the atomic information of the rdd in this case is a Row, so our map function just extracts the \"review/summary\" field of the row, which is a string, and then tokenizes the string\n",
        "# actually this is a flatMap, which means that if the input is a collection of other collections (in this case we have one list per row), the output is flatten: a unique list containing\n",
        "# all the words of all the lists\n",
        "s = books_rating_df_sub.select(\"review/summary\").rdd.flatMap(lambda row: normalize_string(row[\"review/summary\"]))"
      ],
      "metadata": {
        "id": "EooBmiCqI7mm"
      },
      "execution_count": 11,
      "outputs": []
    },
    {
      "cell_type": "code",
      "source": [
        "# here the atomic information of s is symply the word, thanks to the flatMap operation. So here we count the words, then we swap the (word, counter) pair so that we can\n",
        "# orderByKey, and then we re-swap so that we can visualize the first 10 elements\n",
        "s.map(lambda word:(word, 1)).reduceByKey(lambda x, y: x + y).map(lambda couple: (couple[1], couple[0])).sortByKey(ascending=False).map(lambda couple: (couple[1], couple[0])).take(10)"
      ],
      "metadata": {
        "id": "ygaEGV6vNM1U",
        "outputId": "5d5423d7-9d48-4e0a-ec31-b52d20ac3543",
        "colab": {
          "base_uri": "https://localhost:8080/"
        }
      },
      "execution_count": 12,
      "outputs": [
        {
          "output_type": "execute_result",
          "data": {
            "text/plain": [
              "[('the', 6198),\n",
              " ('a', 6044),\n",
              " ('of', 4423),\n",
              " ('book', 3447),\n",
              " ('and', 2695),\n",
              " ('to', 2067),\n",
              " ('great', 2061),\n",
              " ('for', 1967),\n",
              " ('this', 1662),\n",
              " ('read', 1507)]"
            ]
          },
          "metadata": {},
          "execution_count": 12
        }
      ]
    },
    {
      "cell_type": "code",
      "source": [
        "books_rating_df_sub.show()"
      ],
      "metadata": {
        "id": "b8p0jVY-Q_Bc",
        "outputId": "94c59a10-b06b-4700-f450-8235e4fde446",
        "colab": {
          "base_uri": "https://localhost:8080/"
        }
      },
      "execution_count": 13,
      "outputs": [
        {
          "output_type": "stream",
          "name": "stdout",
          "text": [
            "+----------+--------------------+-----+--------------+--------------------+------------------+------------+-----------+--------------------+--------------------+\n",
            "|        Id|               Title|Price|       User_id|         profileName|review/helpfulness|review/score|review/time|      review/summary|         review/text|\n",
            "+----------+--------------------+-----+--------------+--------------------+------------------+------------+-----------+--------------------+--------------------+\n",
            "|1882931173|Its Only Art If I...| NULL| AVCGYZL8FQQTD|\"Jim of Oz \"\"jim-...|               7/7|         4.0|  940636800|Nice collection o...|This is only for ...|\n",
            "|0826414346|Dr. Seuss: Americ...| NULL|A30TK6U7DNS82R|       Kevin Killian|             10/10|         5.0| 1095724800|   Really Enjoyed It|I don't care much...|\n",
            "|0826414346|Dr. Seuss: Americ...| NULL|A3UH4UZ4RSVO82|        John Granger|             10/11|         5.0| 1078790400|Essential for eve...|\"If people become...|\n",
            "|0826414346|Dr. Seuss: Americ...| NULL|A2MVUWT453QH61|\"Roy E. Perry \"\"a...|               7/7|         4.0| 1090713600|Phlip Nel gives s...|Theodore Seuss Ge...|\n",
            "|0826414346|Dr. Seuss: Americ...| NULL|A22X4XUPKF66MR|\"D. H. Richards \"...|               3/3|         4.0| 1107993600|Good academic ove...|\"Philip Nel - Dr....|\n",
            "|0826414346|Dr. Seuss: Americ...| NULL|A2F6NONFUDB6UK|              Malvin|               2/2|         4.0| 1127174400|One of America's ...|\"\"\"Dr. Seuss: Ame...|\n",
            "|0826414346|Dr. Seuss: Americ...| NULL|A14OJS0VWMOSWO| Midwest Book Review|               3/4|         5.0| 1100131200|A memorably excel...|Theodor Seuss Gie...|\n",
            "|0826414346|Dr. Seuss: Americ...| NULL|A2RSSXTDZDUSH4|           J. Squire|               0/0|         5.0| 1231200000|Academia At It's ...|\"When I recieved ...|\n",
            "|0826414346|Dr. Seuss: Americ...| NULL|A25MD5I2GUIW6W|\"J. P. HIGBED \"\"b...|               0/0|         5.0| 1209859200|And to think that...|\"Trams (or any pu...|\n",
            "|0826414346|Dr. Seuss: Americ...| NULL|A3VA4XFS5WNJO3|     Donald Burnside|               3/5|         4.0| 1076371200|Fascinating accou...|As far as I am aw...|\n",
            "|0829814000|Wonderful Worship...|19.40| AZ0IOBU20TBOP|  Rev. Pamela Tinnin|              8/10|         5.0|  991440000|Outstanding Resou...|I just finished t...|\n",
            "|0829814000|Wonderful Worship...|19.40|A373VVEU6Z9M0N|Dr. Terry W. Dorsett|               1/1|         5.0| 1291766400|Small Churches CA...|\"Many small churc...|\n",
            "|0829814000|Wonderful Worship...|19.40| AGKGOH65VTRR4|\"Cynthia L. Lajoy...|               1/1|         5.0| 1248307200|Not Just for Past...|I just finished r...|\n",
            "|0829814000|Wonderful Worship...|19.40| A3OQWLU31BU1Y|       Maxwell Grant|               1/1|         5.0| 1222560000|Small church past...|\"I hadn't been a ...|\n",
            "|0595344550|Whispers of the W...|10.95|A3Q12RK71N74LB|         Book Reader|              7/11|         1.0| 1117065600|            not good|I bought this boo...|\n",
            "|0595344550|Whispers of the W...|10.95|A1E9M6APK30ZAU|           V. Powell|               1/2|         4.0| 1119571200|  Here is my opinion|\"I have to admit,...|\n",
            "|0595344550|Whispers of the W...|10.95| AUR0VA5H0C66C|\"LoveToRead \"\"Act...|               1/2|         1.0| 1119225600|        Buyer beware|\"This is a self-p...|\n",
            "|0595344550|Whispers of the W...|10.95|A1YLDZ3VHR6QPZ|               Clara|               2/4|         5.0| 1115942400| Fall on your knee's|When I first read...|\n",
            "|0595344550|Whispers of the W...|10.95| ACO23CG8K8T77|               Tonya|               5/9|         5.0| 1117065600|      Bravo Veronica|I read the review...|\n",
            "|0595344550|Whispers of the W...|10.95|A1VK81CRRC7MLM|\"missyLou \"\"apple\"\"\"|               1/3|         5.0| 1130025600|           Wonderful|\"I really enjoyed...|\n",
            "+----------+--------------------+-----+--------------+--------------------+------------------+------------+-----------+--------------------+--------------------+\n",
            "only showing top 20 rows\n",
            "\n"
          ]
        }
      ]
    },
    {
      "cell_type": "code",
      "source": [
        "words = [\"house\", \"dog\", \"cat\", \"dog\", \"garden\", \"cat\", \"dog\",]\n",
        "\n",
        "# create rdd\n",
        "\n",
        "rdd = sc.parallelize(words)\n",
        "\n",
        "rdd.map(lambda x:(x, 1)).reduceByKey(lambda x,y: x+y).collect()\n"
      ],
      "metadata": {
        "id": "Cy8t0gS3DgY8",
        "outputId": "27f61f0a-56cc-4a32-bfe5-a3225e4de623",
        "colab": {
          "base_uri": "https://localhost:8080/"
        }
      },
      "execution_count": 14,
      "outputs": [
        {
          "output_type": "execute_result",
          "data": {
            "text/plain": [
              "[('dog', 3), ('house', 1), ('cat', 2), ('garden', 1)]"
            ]
          },
          "metadata": {},
          "execution_count": 14
        }
      ]
    },
    {
      "cell_type": "markdown",
      "source": [
        "# **Link Analysis: finding influential/authoritative users**\n",
        "\n",
        "**Graph**:\n",
        "- nodes → users\n",
        "- edges → links between users if two users reviewed the same book\n",
        "\n",
        "the graph is **oriented**, so a link from ```u1``` to ```u2``` exists if ```u1``` and ```u2``` reviewd the same book, but the score (helpfulness) of the ```u1```'s review for that book is higher than the score that ```u2``` obtained for his/her review of that specific book.\n",
        "\n"
      ],
      "metadata": {
        "id": "HwK6MMqmVYXu"
      }
    },
    {
      "cell_type": "markdown",
      "source": [
        "## **Graph creation**\n",
        "\n",
        "given $R$ the review table and given $R' = Π_{Title, User\\_id, helpfulness}(R)$, we create the table\n",
        "\n",
        "$$J = \\sigma_{helpfulness_1 > helpfulness_2}(R' ⨝_{Title} R') $$\n",
        "\n",
        "This table has the schema\n",
        "```\n",
        "root\n",
        " |-- User_id_1\n",
        " |-- Title\n",
        " |-- User_id_2\n",
        " |-- Helpfulness_1\n",
        " |-- Helpfulness_2\n",
        "```\n",
        "and it's build such that both ```User_id_1``` and ```User_id_2``` reviewd the book named with ```Title``` and ```Helpfulness_1``` $>$ ```Helpfulness_2```\n",
        "\n",
        "Starting from this table we create the graph according to the criterium explained above"
      ],
      "metadata": {
        "id": "cIEICSONWmMz"
      }
    },
    {
      "cell_type": "code",
      "source": [
        "from pyspark.sql.functions import split, col, when\n",
        "\n",
        "# TODO: replace with normalized version\n",
        "def get_helpfulness_score(col_name):\n",
        "    num = split(col(col_name), \"/\").getItem(0).cast(\"float\")\n",
        "    den = split(col(col_name), \"/\").getItem(1).cast(\"float\")\n",
        "    return when(den != 0, num / den).otherwise(0.0)\n",
        "\n",
        "R_first = books_rating_df_sub.select([\"Title\", \"User_id\", \"review/helpfulness\"])\n",
        "R1 = R_first.alias(\"R1\")\n",
        "R2 = R_first.alias(\"R2\")\n",
        "\n",
        "J = R1.join(R2, col(\"R1.Title\") == col(\"R2.Title\")) \\\n",
        "      .filter(col(\"R1.User_id\") != col(\"R2.User_id\")) \\\n",
        "      .select(\n",
        "          col(\"R1.Title\").alias(\"Title\"),\n",
        "          col(\"R1.User_id\").alias(\"User_id_1\"),\n",
        "          col(\"R2.User_id\").alias(\"User_id_2\"),\n",
        "          get_helpfulness_score(\"R1.review/helpfulness\").alias(\"helpfulness_1\"),\n",
        "          get_helpfulness_score(\"R2.review/helpfulness\").alias(\"helpfulness_2\")\n",
        "      )\n",
        "\n",
        "J_filtered = J.filter(col(\"helpfulness_1\") > col(\"helpfulness_2\"))\n",
        "J_filtered.count()"
      ],
      "metadata": {
        "id": "oOoD6bekY-QV",
        "outputId": "7fb589d3-12f1-49d9-d449-9589a7a41c5c",
        "colab": {
          "base_uri": "https://localhost:8080/"
        }
      },
      "execution_count": 60,
      "outputs": [
        {
          "output_type": "execute_result",
          "data": {
            "text/plain": [
              "2735994"
            ]
          },
          "metadata": {},
          "execution_count": 60
        }
      ]
    },
    {
      "cell_type": "code",
      "source": [
        "J_filtered.take(10)"
      ],
      "metadata": {
        "id": "9oB-vuiG73-M",
        "outputId": "4118a39b-0fe3-4e90-b542-47375d8e0a77",
        "colab": {
          "base_uri": "https://localhost:8080/"
        }
      },
      "execution_count": 61,
      "outputs": [
        {
          "output_type": "execute_result",
          "data": {
            "text/plain": [
              "[Row(Title='Dr. Seuss: American Icon', User_id_1='A30TK6U7DNS82R', User_id_2='A3VA4XFS5WNJO3', helpfulness_1=1.0, helpfulness_2=0.6),\n",
              " Row(Title='Dr. Seuss: American Icon', User_id_1='A30TK6U7DNS82R', User_id_2='A25MD5I2GUIW6W', helpfulness_1=1.0, helpfulness_2=0.0),\n",
              " Row(Title='Dr. Seuss: American Icon', User_id_1='A30TK6U7DNS82R', User_id_2='A2RSSXTDZDUSH4', helpfulness_1=1.0, helpfulness_2=0.0),\n",
              " Row(Title='Dr. Seuss: American Icon', User_id_1='A30TK6U7DNS82R', User_id_2='A14OJS0VWMOSWO', helpfulness_1=1.0, helpfulness_2=0.75),\n",
              " Row(Title='Dr. Seuss: American Icon', User_id_1='A30TK6U7DNS82R', User_id_2='A3UH4UZ4RSVO82', helpfulness_1=1.0, helpfulness_2=0.9090909090909091),\n",
              " Row(Title='Dr. Seuss: American Icon', User_id_1='A3UH4UZ4RSVO82', User_id_2='A3VA4XFS5WNJO3', helpfulness_1=0.9090909090909091, helpfulness_2=0.6),\n",
              " Row(Title='Dr. Seuss: American Icon', User_id_1='A3UH4UZ4RSVO82', User_id_2='A25MD5I2GUIW6W', helpfulness_1=0.9090909090909091, helpfulness_2=0.0),\n",
              " Row(Title='Dr. Seuss: American Icon', User_id_1='A3UH4UZ4RSVO82', User_id_2='A2RSSXTDZDUSH4', helpfulness_1=0.9090909090909091, helpfulness_2=0.0),\n",
              " Row(Title='Dr. Seuss: American Icon', User_id_1='A3UH4UZ4RSVO82', User_id_2='A14OJS0VWMOSWO', helpfulness_1=0.9090909090909091, helpfulness_2=0.75),\n",
              " Row(Title='Dr. Seuss: American Icon', User_id_1='A2MVUWT453QH61', User_id_2='A3VA4XFS5WNJO3', helpfulness_1=1.0, helpfulness_2=0.6)]"
            ]
          },
          "metadata": {},
          "execution_count": 61
        }
      ]
    },
    {
      "cell_type": "code",
      "source": [
        "J_filtered.printSchema()"
      ],
      "metadata": {
        "id": "r7iwoxtKHpIW",
        "outputId": "20d16418-e97c-4567-f8b6-0a80414e98f5",
        "colab": {
          "base_uri": "https://localhost:8080/"
        }
      },
      "execution_count": 74,
      "outputs": [
        {
          "output_type": "stream",
          "name": "stdout",
          "text": [
            "root\n",
            " |-- Title: string (nullable = true)\n",
            " |-- User_id_1: string (nullable = true)\n",
            " |-- User_id_2: string (nullable = true)\n",
            " |-- helpfulness_1: double (nullable = true)\n",
            " |-- helpfulness_2: double (nullable = true)\n",
            "\n"
          ]
        }
      ]
    },
    {
      "cell_type": "code",
      "source": [
        "unique_users = J_filtered.select(col(\"User_id_1\").alias(\"User_id\")) \\\n",
        "    .union(J_filtered.select(col(\"User_id_2\").alias(\"User_id\"))) \\\n",
        "    .distinct()\n",
        "\n",
        "user_ids_rdd = unique_users.rdd.map(lambda row: row[\"User_id\"]).zipWithIndex()"
      ],
      "metadata": {
        "id": "TrfbBSEf87jY"
      },
      "execution_count": 76,
      "outputs": []
    },
    {
      "cell_type": "code",
      "source": [
        "user_ids_rdd.take(100)"
      ],
      "metadata": {
        "id": "Q-YM3I6tDnqj",
        "outputId": "6091b9d8-438e-4d24-fedd-2b618df30792",
        "colab": {
          "base_uri": "https://localhost:8080/"
        }
      },
      "execution_count": 78,
      "outputs": [
        {
          "output_type": "execute_result",
          "data": {
            "text/plain": [
              "[('AT3C9SZ3MB4U9', 0),\n",
              " ('A2CIIL55BUQWBG', 1),\n",
              " ('A140XH16IKR4B0', 2),\n",
              " ('A3EN6NDS6S7N9N', 3),\n",
              " ('AKDP4PZ94N2E1', 4),\n",
              " ('AN7O864X6GFGS', 5),\n",
              " ('A2BZRYYBIU3TPH', 6),\n",
              " ('A2V6MCBFM4BR9W', 7),\n",
              " ('A34IMKI2BF4936', 8),\n",
              " ('A2VG0RY3EUWZKB', 9),\n",
              " ('A2Y927PCQ6G556', 10),\n",
              " ('A1MN8ZRZA0A1ZP', 11),\n",
              " ('A2IYME501MHPC7', 12),\n",
              " ('A20MVVFHOAVC4U', 13),\n",
              " ('A2JKKRSTMLJ73H', 14),\n",
              " ('A2F1V4XDY8KTP6', 15),\n",
              " ('A3K7M5E4NNWA5L', 16),\n",
              " ('A4DF7XDJ5TL8V', 17),\n",
              " ('A35820ETLMB68', 18),\n",
              " ('A1SC29HW0HZAKX', 19),\n",
              " ('A24NQ8FKOAMF2Y', 20),\n",
              " ('A3CZ763XOAIQTV', 21),\n",
              " ('A1NBSKWJDCGB0S', 22),\n",
              " ('A2LISE436ZBCMB', 23),\n",
              " ('A3SHV3QBHVCKC6', 24),\n",
              " ('A2ZX1G5I2V4674', 25),\n",
              " ('A3LY4P70LKSVVA', 26),\n",
              " ('A36QI97W0DY09F', 27),\n",
              " ('AYBFMIUC6XBSG', 28),\n",
              " ('A1AJ2TKCLVKH7W', 29),\n",
              " ('A2EXCOHIQ5V7DZ', 30),\n",
              " ('A3U7ZU99ZOQO4', 31),\n",
              " ('ABB4NMEBHULVI', 32),\n",
              " ('A2759VIZDS0GBU', 33),\n",
              " ('A3MJWG85BEC3U5', 34),\n",
              " ('A12UB9OEVFO2Y3', 35),\n",
              " ('A20BBYODF7EFMS', 36),\n",
              " ('A356HHSZRK0LZ9', 37),\n",
              " ('A3RONGLCML5QQ3', 38),\n",
              " ('AGBRTPPIJT6UK', 39),\n",
              " ('ADY90IXWW6X2R', 40),\n",
              " ('AAAO80KHHOEY5', 41),\n",
              " ('AF29TNM0A9PYK', 42),\n",
              " ('A3OPEQSTIJ9VCO', 43),\n",
              " ('A2VFB4ADWJYVIO', 44),\n",
              " ('AG9A3ZL7ODL6X', 45),\n",
              " ('A2W8T1L1G1E9FZ', 46),\n",
              " ('A2I6CRLQ0W83X6', 47),\n",
              " ('A2KAPYMGXDQHBB', 48),\n",
              " ('A3QDHRMFIVA7UK', 49),\n",
              " ('A3VU2WZVPAKMNP', 50),\n",
              " ('A2BX0HAN7PGIX3', 51),\n",
              " ('ANEDXRFDZDL18', 52),\n",
              " ('A3OWN3330M7XVV', 53),\n",
              " ('A2HZ43P6B6UNWU', 54),\n",
              " ('A19UL8LHJQXRZY', 55),\n",
              " ('A3PE04XO67MY4B', 56),\n",
              " ('A1CNQTCRQ35IMM', 57),\n",
              " ('A85QO1YEJLS3B', 58),\n",
              " ('AE094T40T1F8H', 59),\n",
              " ('A2RLJFRG94FWS4', 60),\n",
              " ('A2DAGLJW0BLBVF', 61),\n",
              " ('A3UHVOL6LH0KCR', 62),\n",
              " ('A2M80O5393P570', 63),\n",
              " ('A3T0BW4LK9O1EZ', 64),\n",
              " ('A21ROPNTB2YHCG', 65),\n",
              " ('A3BM3OVEA2POZS', 66),\n",
              " ('AAV32QTM316YU', 67),\n",
              " ('ABO4WNL3L2CHH', 68),\n",
              " ('A3V2SNROPER4VY', 69),\n",
              " ('A391OMFYDV3YAY', 70),\n",
              " ('A22LX6529JJ166', 71),\n",
              " ('A3PO7L44QLQJSV', 72),\n",
              " ('AVFWQ3A6UIJ2W', 73),\n",
              " ('A1HCI1QT7B7KJF', 74),\n",
              " ('A3NDN778XBM4FI', 75),\n",
              " ('AQ4PY9AEBVST0', 76),\n",
              " ('AB4F6UHL20U95', 77),\n",
              " ('ASOPGBEV8HOMK', 78),\n",
              " ('A1THRM5Q0FPP5E', 79),\n",
              " ('AWUOUUNXEUUW0', 80),\n",
              " ('A2KRD3G5QDJ9UT', 81),\n",
              " ('A9TLKYVZ7Y0OX', 82),\n",
              " ('A27G3XOXB02R1C', 83),\n",
              " ('AIV74BBKCHIX', 84),\n",
              " ('A3KRKAL0UK5W7Q', 85),\n",
              " ('A91FWHR1J5AET', 86),\n",
              " ('ALWB64XOXNMDP', 87),\n",
              " ('A3JNVPGF3GPGN4', 88),\n",
              " ('AU76P5W3CXD75', 89),\n",
              " ('A6P5DIHZS3CJ1', 90),\n",
              " ('A3DGLPQMWEOZSN', 91),\n",
              " ('A2Q6I453ZNXBE2', 92),\n",
              " ('A2F9YFLB9TF29H', 93),\n",
              " ('A1JIP7ZWOTRDHI', 94),\n",
              " ('AI9AFMD6OVGUG', 95),\n",
              " ('ARLO3RMSRYL6G', 96),\n",
              " ('A44L7MZUHU11K', 97),\n",
              " ('A1C3VFWKFNWE19', 98),\n",
              " ('A1XTDZ5ZEW6PCD', 99)]"
            ]
          },
          "metadata": {},
          "execution_count": 78
        }
      ]
    }
  ]
}