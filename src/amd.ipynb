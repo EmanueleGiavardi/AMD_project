{
  "nbformat": 4,
  "nbformat_minor": 0,
  "metadata": {
    "colab": {
      "provenance": [],
      "authorship_tag": "ABX9TyNQf7ewDkoNashv+eMCAUzh",
      "include_colab_link": true
    },
    "kernelspec": {
      "name": "python3",
      "display_name": "Python 3"
    },
    "language_info": {
      "name": "python"
    }
  },
  "cells": [
    {
      "cell_type": "markdown",
      "metadata": {
        "id": "view-in-github",
        "colab_type": "text"
      },
      "source": [
        "<a href=\"https://colab.research.google.com/github/EmanueleGiavardi/AMD_project/blob/main/src/amd.ipynb\" target=\"_parent\"><img src=\"https://colab.research.google.com/assets/colab-badge.svg\" alt=\"Open In Colab\"/></a>"
      ]
    },
    {
      "cell_type": "code",
      "execution_count": 1,
      "metadata": {
        "id": "LDB6CYFF2gAS"
      },
      "outputs": [],
      "source": [
        "import pandas as pd\n",
        "import numpy as np\n",
        "import os\n",
        "from google.colab import drive\n",
        "import json"
      ]
    },
    {
      "cell_type": "code",
      "source": [
        "# kaggle authentication and dataset download\n",
        "\n",
        "drive.mount(\"/content/gdrive\", force_remount=True)\n",
        "\n",
        "# PROVIDE HERE A VALID PATH FOR kaggle.json FILE, containing username and key for Kaggle\n",
        "KAGGLE_FILE_PATH = \"/content/gdrive/MyDrive/.kaggle/kaggle.json\"\n",
        "kaggle_json = json.load(open(KAGGLE_FILE_PATH))\n",
        "\n",
        "os.environ['KAGGLE_USERNAME'] = kaggle_json['username']\n",
        "os.environ['KAGGLE_KEY'] = kaggle_json['key']\n",
        "!kaggle datasets download -d \"mohamedbakhet/amazon-books-reviews\"\n",
        "!unzip amazon-books-reviews.zip\n",
        "!rm -r amazon-books-reviews.zip"
      ],
      "metadata": {
        "colab": {
          "base_uri": "https://localhost:8080/"
        },
        "id": "xZc7Wofk6G4I",
        "outputId": "08bbdb91-0beb-4d06-8ec4-89eb1d7204a9"
      },
      "execution_count": 2,
      "outputs": [
        {
          "output_type": "stream",
          "name": "stdout",
          "text": [
            "Mounted at /content/gdrive\n",
            "Dataset URL: https://www.kaggle.com/datasets/mohamedbakhet/amazon-books-reviews\n",
            "License(s): CC0-1.0\n",
            "Downloading amazon-books-reviews.zip to /content\n",
            "100% 1.06G/1.06G [00:07<00:00, 271MB/s]\n",
            "100% 1.06G/1.06G [00:07<00:00, 158MB/s]\n",
            "Archive:  amazon-books-reviews.zip\n",
            "  inflating: Books_rating.csv        \n",
            "  inflating: books_data.csv          \n"
          ]
        }
      ]
    },
    {
      "cell_type": "code",
      "source": [
        "books_rating_df = pd.read_csv(\"Books_rating.csv\", sep=\",\")\n",
        "books_data_df = pd.read_csv(\"books_data.csv\", sep=\",\")"
      ],
      "metadata": {
        "id": "P4r1T4pQ9q8z"
      },
      "execution_count": 3,
      "outputs": []
    }
  ]
}