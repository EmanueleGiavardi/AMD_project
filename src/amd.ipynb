{
  "nbformat": 4,
  "nbformat_minor": 0,
  "metadata": {
    "colab": {
      "provenance": [],
      "authorship_tag": "ABX9TyNFWcH/SnL3NWJ1OdPQho73",
      "include_colab_link": true
    },
    "kernelspec": {
      "name": "python3",
      "display_name": "Python 3"
    },
    "language_info": {
      "name": "python"
    }
  },
  "cells": [
    {
      "cell_type": "markdown",
      "metadata": {
        "id": "view-in-github",
        "colab_type": "text"
      },
      "source": [
        "<a href=\"https://colab.research.google.com/github/EmanueleGiavardi/AMD_project/blob/main/src/amd.ipynb\" target=\"_parent\"><img src=\"https://colab.research.google.com/assets/colab-badge.svg\" alt=\"Open In Colab\"/></a>"
      ]
    },
    {
      "cell_type": "code",
      "source": [
        "!pip install -q kaggle pyspark"
      ],
      "metadata": {
        "id": "lVpPeMdRyhl-"
      },
      "execution_count": 1,
      "outputs": []
    },
    {
      "cell_type": "code",
      "source": [
        "import pyspark\n",
        "from pyspark.sql import functions as F\n",
        "import pandas as pd\n",
        "import numpy as np\n",
        "import os\n",
        "from google.colab import files\n",
        "from collections import Counter"
      ],
      "metadata": {
        "id": "6c2uPSW2UgA8"
      },
      "execution_count": 25,
      "outputs": []
    },
    {
      "cell_type": "code",
      "source": [
        "# please upload your kaggle.json file here\n",
        "files.upload()\n",
        "!ls -lha kaggle.json\n",
        "!mkdir -p ~/.kaggle\n",
        "!cp kaggle.json ~/.kaggle/\n",
        "!chmod 600 ~/.kaggle/kaggle.json"
      ],
      "metadata": {
        "colab": {
          "base_uri": "https://localhost:8080/",
          "height": 92
        },
        "id": "4HULTI5NxhlD",
        "outputId": "7438a910-782a-4779-8ef5-b669dd7fbb37"
      },
      "execution_count": 3,
      "outputs": [
        {
          "output_type": "display_data",
          "data": {
            "text/plain": [
              "<IPython.core.display.HTML object>"
            ],
            "text/html": [
              "\n",
              "     <input type=\"file\" id=\"files-a1be8a68-4fcc-4788-aa30-a6e62fc5de05\" name=\"files[]\" multiple disabled\n",
              "        style=\"border:none\" />\n",
              "     <output id=\"result-a1be8a68-4fcc-4788-aa30-a6e62fc5de05\">\n",
              "      Upload widget is only available when the cell has been executed in the\n",
              "      current browser session. Please rerun this cell to enable.\n",
              "      </output>\n",
              "      <script>// Copyright 2017 Google LLC\n",
              "//\n",
              "// Licensed under the Apache License, Version 2.0 (the \"License\");\n",
              "// you may not use this file except in compliance with the License.\n",
              "// You may obtain a copy of the License at\n",
              "//\n",
              "//      http://www.apache.org/licenses/LICENSE-2.0\n",
              "//\n",
              "// Unless required by applicable law or agreed to in writing, software\n",
              "// distributed under the License is distributed on an \"AS IS\" BASIS,\n",
              "// WITHOUT WARRANTIES OR CONDITIONS OF ANY KIND, either express or implied.\n",
              "// See the License for the specific language governing permissions and\n",
              "// limitations under the License.\n",
              "\n",
              "/**\n",
              " * @fileoverview Helpers for google.colab Python module.\n",
              " */\n",
              "(function(scope) {\n",
              "function span(text, styleAttributes = {}) {\n",
              "  const element = document.createElement('span');\n",
              "  element.textContent = text;\n",
              "  for (const key of Object.keys(styleAttributes)) {\n",
              "    element.style[key] = styleAttributes[key];\n",
              "  }\n",
              "  return element;\n",
              "}\n",
              "\n",
              "// Max number of bytes which will be uploaded at a time.\n",
              "const MAX_PAYLOAD_SIZE = 100 * 1024;\n",
              "\n",
              "function _uploadFiles(inputId, outputId) {\n",
              "  const steps = uploadFilesStep(inputId, outputId);\n",
              "  const outputElement = document.getElementById(outputId);\n",
              "  // Cache steps on the outputElement to make it available for the next call\n",
              "  // to uploadFilesContinue from Python.\n",
              "  outputElement.steps = steps;\n",
              "\n",
              "  return _uploadFilesContinue(outputId);\n",
              "}\n",
              "\n",
              "// This is roughly an async generator (not supported in the browser yet),\n",
              "// where there are multiple asynchronous steps and the Python side is going\n",
              "// to poll for completion of each step.\n",
              "// This uses a Promise to block the python side on completion of each step,\n",
              "// then passes the result of the previous step as the input to the next step.\n",
              "function _uploadFilesContinue(outputId) {\n",
              "  const outputElement = document.getElementById(outputId);\n",
              "  const steps = outputElement.steps;\n",
              "\n",
              "  const next = steps.next(outputElement.lastPromiseValue);\n",
              "  return Promise.resolve(next.value.promise).then((value) => {\n",
              "    // Cache the last promise value to make it available to the next\n",
              "    // step of the generator.\n",
              "    outputElement.lastPromiseValue = value;\n",
              "    return next.value.response;\n",
              "  });\n",
              "}\n",
              "\n",
              "/**\n",
              " * Generator function which is called between each async step of the upload\n",
              " * process.\n",
              " * @param {string} inputId Element ID of the input file picker element.\n",
              " * @param {string} outputId Element ID of the output display.\n",
              " * @return {!Iterable<!Object>} Iterable of next steps.\n",
              " */\n",
              "function* uploadFilesStep(inputId, outputId) {\n",
              "  const inputElement = document.getElementById(inputId);\n",
              "  inputElement.disabled = false;\n",
              "\n",
              "  const outputElement = document.getElementById(outputId);\n",
              "  outputElement.innerHTML = '';\n",
              "\n",
              "  const pickedPromise = new Promise((resolve) => {\n",
              "    inputElement.addEventListener('change', (e) => {\n",
              "      resolve(e.target.files);\n",
              "    });\n",
              "  });\n",
              "\n",
              "  const cancel = document.createElement('button');\n",
              "  inputElement.parentElement.appendChild(cancel);\n",
              "  cancel.textContent = 'Cancel upload';\n",
              "  const cancelPromise = new Promise((resolve) => {\n",
              "    cancel.onclick = () => {\n",
              "      resolve(null);\n",
              "    };\n",
              "  });\n",
              "\n",
              "  // Wait for the user to pick the files.\n",
              "  const files = yield {\n",
              "    promise: Promise.race([pickedPromise, cancelPromise]),\n",
              "    response: {\n",
              "      action: 'starting',\n",
              "    }\n",
              "  };\n",
              "\n",
              "  cancel.remove();\n",
              "\n",
              "  // Disable the input element since further picks are not allowed.\n",
              "  inputElement.disabled = true;\n",
              "\n",
              "  if (!files) {\n",
              "    return {\n",
              "      response: {\n",
              "        action: 'complete',\n",
              "      }\n",
              "    };\n",
              "  }\n",
              "\n",
              "  for (const file of files) {\n",
              "    const li = document.createElement('li');\n",
              "    li.append(span(file.name, {fontWeight: 'bold'}));\n",
              "    li.append(span(\n",
              "        `(${file.type || 'n/a'}) - ${file.size} bytes, ` +\n",
              "        `last modified: ${\n",
              "            file.lastModifiedDate ? file.lastModifiedDate.toLocaleDateString() :\n",
              "                                    'n/a'} - `));\n",
              "    const percent = span('0% done');\n",
              "    li.appendChild(percent);\n",
              "\n",
              "    outputElement.appendChild(li);\n",
              "\n",
              "    const fileDataPromise = new Promise((resolve) => {\n",
              "      const reader = new FileReader();\n",
              "      reader.onload = (e) => {\n",
              "        resolve(e.target.result);\n",
              "      };\n",
              "      reader.readAsArrayBuffer(file);\n",
              "    });\n",
              "    // Wait for the data to be ready.\n",
              "    let fileData = yield {\n",
              "      promise: fileDataPromise,\n",
              "      response: {\n",
              "        action: 'continue',\n",
              "      }\n",
              "    };\n",
              "\n",
              "    // Use a chunked sending to avoid message size limits. See b/62115660.\n",
              "    let position = 0;\n",
              "    do {\n",
              "      const length = Math.min(fileData.byteLength - position, MAX_PAYLOAD_SIZE);\n",
              "      const chunk = new Uint8Array(fileData, position, length);\n",
              "      position += length;\n",
              "\n",
              "      const base64 = btoa(String.fromCharCode.apply(null, chunk));\n",
              "      yield {\n",
              "        response: {\n",
              "          action: 'append',\n",
              "          file: file.name,\n",
              "          data: base64,\n",
              "        },\n",
              "      };\n",
              "\n",
              "      let percentDone = fileData.byteLength === 0 ?\n",
              "          100 :\n",
              "          Math.round((position / fileData.byteLength) * 100);\n",
              "      percent.textContent = `${percentDone}% done`;\n",
              "\n",
              "    } while (position < fileData.byteLength);\n",
              "  }\n",
              "\n",
              "  // All done.\n",
              "  yield {\n",
              "    response: {\n",
              "      action: 'complete',\n",
              "    }\n",
              "  };\n",
              "}\n",
              "\n",
              "scope.google = scope.google || {};\n",
              "scope.google.colab = scope.google.colab || {};\n",
              "scope.google.colab._files = {\n",
              "  _uploadFiles,\n",
              "  _uploadFilesContinue,\n",
              "};\n",
              "})(self);\n",
              "</script> "
            ]
          },
          "metadata": {}
        },
        {
          "output_type": "stream",
          "name": "stdout",
          "text": [
            "Saving kaggle.json to kaggle.json\n",
            "-rw-r--r-- 1 root root 72 May 24 08:06 kaggle.json\n"
          ]
        }
      ]
    },
    {
      "cell_type": "code",
      "source": [
        "!kaggle datasets download -d \"mohamedbakhet/amazon-books-reviews\"\n",
        "!unzip amazon-books-reviews.zip\n",
        "!rm -r amazon-books-reviews.zip"
      ],
      "metadata": {
        "colab": {
          "base_uri": "https://localhost:8080/"
        },
        "id": "9DpRDvklyoWs",
        "outputId": "60e554f1-6a78-451a-eef1-96bfaa56f044"
      },
      "execution_count": 4,
      "outputs": [
        {
          "output_type": "stream",
          "name": "stdout",
          "text": [
            "Dataset URL: https://www.kaggle.com/datasets/mohamedbakhet/amazon-books-reviews\n",
            "License(s): CC0-1.0\n",
            "Downloading amazon-books-reviews.zip to /content\n",
            " 95% 1.01G/1.06G [00:08<00:01, 40.3MB/s]\n",
            "100% 1.06G/1.06G [00:08<00:00, 136MB/s] \n",
            "Archive:  amazon-books-reviews.zip\n",
            "  inflating: Books_rating.csv        \n",
            "  inflating: books_data.csv          \n"
          ]
        }
      ]
    },
    {
      "cell_type": "code",
      "source": [
        "spark = pyspark.sql.SparkSession.builder.master(\"local[*]\").appName(\"AMD_project\").getOrCreate()\n",
        "sc = spark.sparkContext"
      ],
      "metadata": {
        "id": "Zq7n-9Bo0BmL"
      },
      "execution_count": 5,
      "outputs": []
    },
    {
      "cell_type": "code",
      "source": [
        "books_rating_df = spark.read.csv(\"Books_rating.csv\", header=True, inferSchema=True)\n",
        "books_rating_df.printSchema()"
      ],
      "metadata": {
        "id": "P4r1T4pQ9q8z",
        "colab": {
          "base_uri": "https://localhost:8080/"
        },
        "outputId": "36be2e3f-5f8e-4669-c26d-8eab36e394c2"
      },
      "execution_count": 6,
      "outputs": [
        {
          "output_type": "stream",
          "name": "stdout",
          "text": [
            "root\n",
            " |-- Id: string (nullable = true)\n",
            " |-- Title: string (nullable = true)\n",
            " |-- Price: string (nullable = true)\n",
            " |-- User_id: string (nullable = true)\n",
            " |-- profileName: string (nullable = true)\n",
            " |-- review/helpfulness: string (nullable = true)\n",
            " |-- review/score: string (nullable = true)\n",
            " |-- review/time: string (nullable = true)\n",
            " |-- review/summary: string (nullable = true)\n",
            " |-- review/text: string (nullable = true)\n",
            "\n"
          ]
        }
      ]
    },
    {
      "cell_type": "code",
      "source": [
        "# subsampling\n",
        "\n",
        "random_state = 42\n",
        "count = books_rating_df.count()\n",
        "sampling_frac = 0.01\n",
        "\n",
        "# probabilistic approach: keeps each line with prob = fraction\n",
        "#books_rating_df_sub = books_rating_df.sample(fraction=sampling_frac, seed=random_state)\n",
        "\n",
        "# keeps exactly (sampling_frac * count) lines, assuming books already in casual order\n",
        "books_rating_df_sub = books_rating_df.limit(int(sampling_frac * count))\n",
        "print(f\"sample has {int(sampling_frac * count)} lines\")\n",
        "books_rating_df_sub.show()"
      ],
      "metadata": {
        "id": "vikm8jG7Csce",
        "colab": {
          "base_uri": "https://localhost:8080/"
        },
        "outputId": "a7ba3c0c-91ab-4347-b135-badf0a86a56b"
      },
      "execution_count": 7,
      "outputs": [
        {
          "output_type": "stream",
          "name": "stdout",
          "text": [
            "sample has 30000 lines\n",
            "+----------+--------------------+-----+--------------+--------------------+------------------+------------+-----------+--------------------+--------------------+\n",
            "|        Id|               Title|Price|       User_id|         profileName|review/helpfulness|review/score|review/time|      review/summary|         review/text|\n",
            "+----------+--------------------+-----+--------------+--------------------+------------------+------------+-----------+--------------------+--------------------+\n",
            "|1882931173|Its Only Art If I...| NULL| AVCGYZL8FQQTD|\"Jim of Oz \"\"jim-...|               7/7|         4.0|  940636800|Nice collection o...|This is only for ...|\n",
            "|0826414346|Dr. Seuss: Americ...| NULL|A30TK6U7DNS82R|       Kevin Killian|             10/10|         5.0| 1095724800|   Really Enjoyed It|I don't care much...|\n",
            "|0826414346|Dr. Seuss: Americ...| NULL|A3UH4UZ4RSVO82|        John Granger|             10/11|         5.0| 1078790400|Essential for eve...|\"If people become...|\n",
            "|0826414346|Dr. Seuss: Americ...| NULL|A2MVUWT453QH61|\"Roy E. Perry \"\"a...|               7/7|         4.0| 1090713600|Phlip Nel gives s...|Theodore Seuss Ge...|\n",
            "|0826414346|Dr. Seuss: Americ...| NULL|A22X4XUPKF66MR|\"D. H. Richards \"...|               3/3|         4.0| 1107993600|Good academic ove...|\"Philip Nel - Dr....|\n",
            "|0826414346|Dr. Seuss: Americ...| NULL|A2F6NONFUDB6UK|              Malvin|               2/2|         4.0| 1127174400|One of America's ...|\"\"\"Dr. Seuss: Ame...|\n",
            "|0826414346|Dr. Seuss: Americ...| NULL|A14OJS0VWMOSWO| Midwest Book Review|               3/4|         5.0| 1100131200|A memorably excel...|Theodor Seuss Gie...|\n",
            "|0826414346|Dr. Seuss: Americ...| NULL|A2RSSXTDZDUSH4|           J. Squire|               0/0|         5.0| 1231200000|Academia At It's ...|\"When I recieved ...|\n",
            "|0826414346|Dr. Seuss: Americ...| NULL|A25MD5I2GUIW6W|\"J. P. HIGBED \"\"b...|               0/0|         5.0| 1209859200|And to think that...|\"Trams (or any pu...|\n",
            "|0826414346|Dr. Seuss: Americ...| NULL|A3VA4XFS5WNJO3|     Donald Burnside|               3/5|         4.0| 1076371200|Fascinating accou...|As far as I am aw...|\n",
            "|0829814000|Wonderful Worship...|19.40| AZ0IOBU20TBOP|  Rev. Pamela Tinnin|              8/10|         5.0|  991440000|Outstanding Resou...|I just finished t...|\n",
            "|0829814000|Wonderful Worship...|19.40|A373VVEU6Z9M0N|Dr. Terry W. Dorsett|               1/1|         5.0| 1291766400|Small Churches CA...|\"Many small churc...|\n",
            "|0829814000|Wonderful Worship...|19.40| AGKGOH65VTRR4|\"Cynthia L. Lajoy...|               1/1|         5.0| 1248307200|Not Just for Past...|I just finished r...|\n",
            "|0829814000|Wonderful Worship...|19.40| A3OQWLU31BU1Y|       Maxwell Grant|               1/1|         5.0| 1222560000|Small church past...|\"I hadn't been a ...|\n",
            "|0595344550|Whispers of the W...|10.95|A3Q12RK71N74LB|         Book Reader|              7/11|         1.0| 1117065600|            not good|I bought this boo...|\n",
            "|0595344550|Whispers of the W...|10.95|A1E9M6APK30ZAU|           V. Powell|               1/2|         4.0| 1119571200|  Here is my opinion|\"I have to admit,...|\n",
            "|0595344550|Whispers of the W...|10.95| AUR0VA5H0C66C|\"LoveToRead \"\"Act...|               1/2|         1.0| 1119225600|        Buyer beware|\"This is a self-p...|\n",
            "|0595344550|Whispers of the W...|10.95|A1YLDZ3VHR6QPZ|               Clara|               2/4|         5.0| 1115942400| Fall on your knee's|When I first read...|\n",
            "|0595344550|Whispers of the W...|10.95| ACO23CG8K8T77|               Tonya|               5/9|         5.0| 1117065600|      Bravo Veronica|I read the review...|\n",
            "|0595344550|Whispers of the W...|10.95|A1VK81CRRC7MLM|\"missyLou \"\"apple\"\"\"|               1/3|         5.0| 1130025600|           Wonderful|\"I really enjoyed...|\n",
            "+----------+--------------------+-----+--------------+--------------------+------------------+------------+-----------+--------------------+--------------------+\n",
            "only showing top 20 rows\n",
            "\n"
          ]
        }
      ]
    },
    {
      "cell_type": "markdown",
      "source": [
        "# **Link Analysis: finding influential/authoritative users**\n",
        "\n",
        "**Graph**:\n",
        "- nodes → users\n",
        "- edges → links between users if two users reviewed the same book\n",
        "\n",
        "the graph is **oriented**, so a link from ```u2``` to ```u1``` exists if ```u1``` and ```u2``` reviewd the same book, but the score (helpfulness) of the ```u1```'s review for that book is higher than the score that ```u2``` obtained for his/her review of that specific book.\n",
        "\n"
      ],
      "metadata": {
        "id": "HwK6MMqmVYXu"
      }
    },
    {
      "cell_type": "markdown",
      "source": [
        "## **Graph creation**\n",
        "\n",
        "given $R$ the review table and given $R' = Π_{Title, User\\_id, helpfulness}(R)$, we create the table\n",
        "\n",
        "$$J = \\sigma_{helpfulness_1 > helpfulness_2}(R' ⨝_{Title} R') $$\n",
        "\n",
        "This table has the schema\n",
        "```\n",
        "root\n",
        " |-- User_id_1\n",
        " |-- Title\n",
        " |-- User_id_2\n",
        " |-- Helpfulness_1\n",
        " |-- Helpfulness_2\n",
        "```\n",
        "and it's build such that both ```User_id_1``` and ```User_id_2``` reviewd the book named with ```Title``` and ```Helpfulness_1``` $>$ ```Helpfulness_2```\n",
        "\n",
        "Starting from this table we create the graph according to the criterium explained above"
      ],
      "metadata": {
        "id": "cIEICSONWmMz"
      }
    },
    {
      "cell_type": "markdown",
      "source": [
        "**NOTE**:\n",
        "\n",
        "the helpfulness score of each review does not share a common scaling (we have things like 0/0, 4/5, 8/10, 78/82 ...)\n",
        "Just for now, the score is simply obtained turning the string \"X/Y\" into a float number and evaluating it.\n",
        "\n",
        "> TODO NEXT: find a cleverer way to deal with helpfulness. The \"X/Y\" could be interpreted as \"people who found the review useful/total people who voted\", even though this is not clear from the dataset specifications (or from the Amazon website). With this assumption, however, it becomes important to take into account the number of people who voted, instead of just considering the fraction of appreciation.\n",
        "\n"
      ],
      "metadata": {
        "id": "r0AuSV2gRkcX"
      }
    },
    {
      "cell_type": "code",
      "source": [
        "from pyspark.sql.functions import split, col, when\n",
        "\n",
        "# TODO: replace with normalized version\n",
        "def get_helpfulness_score(col_name):\n",
        "    num = split(col(col_name), \"/\").getItem(0).cast(\"float\")\n",
        "    den = split(col(col_name), \"/\").getItem(1).cast(\"float\")\n",
        "    return when(den != 0, num / den).otherwise(0.0)\n",
        "\n",
        "R_first = books_rating_df_sub.select([\"Title\", \"User_id\", \"review/helpfulness\"])\n",
        "R1 = R_first.alias(\"R1\")\n",
        "R2 = R_first.alias(\"R2\")\n",
        "\n",
        "J = R1.join(R2, col(\"R1.Title\") == col(\"R2.Title\")) \\\n",
        "      .filter(col(\"R1.User_id\") != col(\"R2.User_id\")) \\\n",
        "      .select(\n",
        "          col(\"R1.Title\").alias(\"Title\"),\n",
        "          col(\"R1.User_id\").alias(\"User_id_1\"),\n",
        "          col(\"R2.User_id\").alias(\"User_id_2\"),\n",
        "          get_helpfulness_score(\"R1.review/helpfulness\").alias(\"helpfulness_1\"),\n",
        "          get_helpfulness_score(\"R2.review/helpfulness\").alias(\"helpfulness_2\")\n",
        "      )\n",
        "\n",
        "J_filtered = J.filter(col(\"helpfulness_1\") > col(\"helpfulness_2\"))\n",
        "\n",
        "# J_filtered schema: | Title | User_id_1 | User_id_2 | helpfulness_1 | helpfulness_2 |"
      ],
      "metadata": {
        "id": "oOoD6bekY-QV"
      },
      "execution_count": 8,
      "outputs": []
    },
    {
      "cell_type": "markdown",
      "source": [
        "The idea now is to associate an **increasing integer value from $0$ to $N-1$** to each one of the $N$ user ids. In this way:\n",
        "- An edge is simply going to be represented as a couple of integers $(i, j)$, where $i$ is the integer value related to the user having the outgoing connection and $j$ us the integer value related to the user having the incoming connection\n",
        "- PageRank values will be stored in a simple array $V$ of $N$ elements, such that $V[i]$ = pageRank value for the user associated to integer value $i$\n",
        "\n"
      ],
      "metadata": {
        "id": "WlQL2g1PTy4m"
      }
    },
    {
      "cell_type": "code",
      "source": [
        "unique_users = J_filtered.select(col(\"User_id_1\").alias(\"User_id\")) \\\n",
        "    .union(J_filtered.select(col(\"User_id_2\").alias(\"User_id\"))) \\\n",
        "    .distinct()\n",
        "\n",
        "# [('user1_id', integer1), ... ('userN_id', integerN)]\n",
        "user_ids_rdd = unique_users.rdd.map(lambda row: row[\"User_id\"]).zipWithIndex()\n",
        "N = user_ids_rdd.count()\n",
        "print(f\"There are {N} unique users\")"
      ],
      "metadata": {
        "colab": {
          "base_uri": "https://localhost:8080/"
        },
        "id": "TrfbBSEf87jY",
        "outputId": "48dc581d-a96e-4d34-f9a1-4f0804acfd09"
      },
      "execution_count": 9,
      "outputs": [
        {
          "output_type": "stream",
          "name": "stdout",
          "text": [
            "There are 19805 unique users\n"
          ]
        }
      ]
    },
    {
      "cell_type": "markdown",
      "source": [
        "Now there could be two ways of creating the $(i, j)$ couples:\n",
        "1. from ```user_ids_rdd``` a Dataframe with schema ```[User_id, Integer_value]``` could be created, being able to associate each ```Integer_value``` both to ```User_id_1``` and ```User_id_2``` using join operations.\n",
        "2. convert ```user_ids_rdd``` in a dictionary which is broadcasted to every computing node of the cluster, so that becomes easy to retrieve the ```Integer_value``` extracting the value for the specific ```User_id``` key\n",
        "\n",
        "Since the number of unique users is not expected to be _that high_, the second option is chosen"
      ],
      "metadata": {
        "id": "A4lcUPbEW-KF"
      }
    },
    {
      "cell_type": "code",
      "source": [
        "user_ids_dict = user_ids_rdd.collectAsMap()\n",
        "bdcast = sc.broadcast(user_ids_dict)"
      ],
      "metadata": {
        "id": "Jee4fKWYZT50"
      },
      "execution_count": 10,
      "outputs": []
    },
    {
      "cell_type": "code",
      "source": [
        "# list of couples (node_src, node_dst)\n",
        "edges = J_filtered.rdd.map(lambda row : (bdcast.value[row[2]], bdcast.value[row[1]]))"
      ],
      "metadata": {
        "id": "sAzZ-FMaZzcO"
      },
      "execution_count": 11,
      "outputs": []
    },
    {
      "cell_type": "markdown",
      "source": [
        "## **PageRank**"
      ],
      "metadata": {
        "id": "6YWDBT5rnods"
      }
    },
    {
      "cell_type": "markdown",
      "source": [
        "first of all we need to compute the adjacency list, so that we can initialize the transition matrix $M$ so that $M_{ij}$ = $\\frac{1}{α}$, where $\\alpha$ is the number of outgoing edges from node $j$ (if there's a link from $j$ to $i$)"
      ],
      "metadata": {
        "id": "V2d5F62vn--t"
      }
    },
    {
      "cell_type": "code",
      "source": [
        "# TODO: find a more efficient way\n",
        "\n",
        "# list of couples (node_src, [iterable of dst nodes])\n",
        "adjacency_list = edges.groupByKey()"
      ],
      "metadata": {
        "id": "T6V-j6MwpWlo"
      },
      "execution_count": 12,
      "outputs": []
    },
    {
      "cell_type": "markdown",
      "source": [
        "now ```adjacency_list``` is a rdd in which each element is expressed ```(node, [neighbours])```. Since the transition matrix $M$ is heavily sparse, we are going to represent it using triplets $(i, j, M_{ij})$ only if $M_{ij} \\neq 0$\n",
        "\n",
        "**NOTE**: in this setting, we could potentially have many arcs from a certain node $A$ to another node $B$, because there could be many books for which user $B$ wrote a better review than user $A$.\n",
        "\n",
        "The idea in this case is to collapse all the possibile arcs from $A$ to $B$ in a single arc, but weighting the associated pageRank initial value according to the actual number of books for which $B$ obtained a better score with respect to $A$.\n",
        "\n",
        "So triplets are actually stored in the form $((i, j), M_{ij})$, so that it becomes easy to group triples with the same key $(i, j)$ and summing up all the contributes $M_{ij}$ associated with the same src-dest nodes.\n",
        "\n",
        "_Example:_\n",
        "- ```edges = [(A, B), (A, B), (A, C)]```\n",
        "- ```adjacency_list = [A, [B, B, C]]```\n",
        "- ```\n",
        "triplets (before grouping) = [\n",
        "    ((B, A), 1/3)\n",
        "    ((B, A), 1/3)\n",
        "    ((C, A), 1/3)\n",
        "]\n",
        "```\n",
        "- ```\n",
        "triplets (after grouping) = [\n",
        "    ((B, A), 2/3)\n",
        "    ((C, A), 1/3)\n",
        "]\n",
        "```\n",
        "\n"
      ],
      "metadata": {
        "id": "9ZiuQzMfQyik"
      }
    },
    {
      "cell_type": "code",
      "source": [
        "# if el is an element of the adjacency_list rdd,\n",
        "# el[0] => node\n",
        "# el[1] => list of neighbours of that node\n",
        "\n",
        "# NOTE: now the semantics of the triplets is (i, j, Mij) => (dst_node, src_node, value)\n",
        "# it's a bit counterintuitive, but COLUMNS REPRESENT SOURCE NODES, while ROWS REPRESENT DESTINATION NODES\n",
        "\n",
        "triplets = adjacency_list.flatMap(\n",
        "    lambda el: [((neighbour, el[0]), 1.0/len(el[1])) for neighbour in el[1] if len(el[1]) > 0]\n",
        ").reduceByKey(lambda x, y: x + y)"
      ],
      "metadata": {
        "id": "bNF8vdaaSaQr"
      },
      "execution_count": 13,
      "outputs": []
    },
    {
      "cell_type": "code",
      "source": [
        "print(f\"transition graph has {N} nodes and {triplets.count()} edges\")"
      ],
      "metadata": {
        "colab": {
          "base_uri": "https://localhost:8080/"
        },
        "id": "pW9YIo0_TkYL",
        "outputId": "341a9e37-322a-420e-9339-f8b79da28c09"
      },
      "execution_count": 14,
      "outputs": [
        {
          "output_type": "stream",
          "name": "stdout",
          "text": [
            "transition graph has 19805 nodes and 2363186 edges\n"
          ]
        }
      ]
    },
    {
      "cell_type": "code",
      "source": [
        "# mapping back to canonical (i, j, Mij) form, for semplicity (and for coherence with lecture notes)\n",
        "M = triplets.map(lambda triplet: (triplet[0][0], triplet[0][1], triplet[1])).cache()"
      ],
      "metadata": {
        "id": "Ye3YvQlsTdTk"
      },
      "execution_count": 15,
      "outputs": []
    },
    {
      "cell_type": "code",
      "source": [
        "# CHECK: M should be column-wise stochastics, so column values should sum up to 1\n",
        "# m[1] -> column index\n",
        "# m[2] -> initial pageRank score for i, j nodes\n",
        "check = M.map(lambda m: (m[1], m[2])).reduceByKey(lambda x, y: x+y)\n",
        "# now we have key-value pairs such that key => column index j and value = SUM(M[i,j]) for i = 0, ..., # rows - 1.\n",
        "# Check if some values are far from 1 (with a tolerance of epsilon)\n",
        "epsilon = 1e-6\n",
        "far_from_one = check.filter(lambda pair: abs(pair[1] - 1.0) > epsilon).count()\n",
        "if far_from_one == 0: print(f\"M is column-wise stochastics\")\n",
        "else: print(f\"M IS NOT column-wise stochastics: there are {far_from_one} columns that doesn't sum up to 1\")"
      ],
      "metadata": {
        "colab": {
          "base_uri": "https://localhost:8080/"
        },
        "id": "DwiAJ3xapYSw",
        "outputId": "44b0ed01-1b52-4f3b-e6fd-54b4548ac753"
      },
      "execution_count": 16,
      "outputs": [
        {
          "output_type": "stream",
          "name": "stdout",
          "text": [
            "M is column-wise stochastics\n"
          ]
        }
      ]
    },
    {
      "cell_type": "markdown",
      "source": [
        "PageRank (with dumping factor β):\n",
        "$$\n",
        "\\begin{equation}\n",
        "    \\begin{cases}\n",
        "        v(0) = \\frac{1}{N}\\underline{1} \\\\\n",
        "        v(t+1) = \\beta Mv(t) + (1-\\beta)\\frac{1}{N}\\underline{1}  \n",
        "    \\end{cases}\\,\n",
        "\\end{equation}\n",
        "$$"
      ],
      "metadata": {
        "id": "XD4_b0R0NPVG"
      }
    },
    {
      "cell_type": "code",
      "source": [
        "def pageRank(M, v, max_iterations=100, tolerance=10e-5, beta=0.8):\n",
        "    iteration = 0\n",
        "    dist = float('inf')\n",
        "    while iteration < max_iterations:\n",
        "        print(f\"iteration {iteration}: distance = {dist}\")\n",
        "\n",
        "        prev_v = v.copy()\n",
        "\n",
        "        # broadcast v to each node of the cluster\n",
        "        v_bdcast = sc.broadcast(v)\n",
        "\n",
        "        # matrix - vector multiplication (distributed)\n",
        "        pr_scores = M.map(lambda m: (m[0], m[2]*v_bdcast.value[m[1]])).reduceByKey(lambda x, y: x + y).sortByKey().collect()\n",
        "        # update vector v (local)\n",
        "        for (user, pr_score) in pr_scores: v[user] = beta * pr_score + (1 - beta) / N\n",
        "\n",
        "        dist = np.linalg.norm(v - prev_v)\n",
        "\n",
        "        if dist < tolerance:\n",
        "            print(f\"Convergence reached after {iteration+1} iterations\")\n",
        "            break\n",
        "\n",
        "        iteration += 1\n",
        "    return v"
      ],
      "metadata": {
        "id": "tvaE9eQ206Kz"
      },
      "execution_count": 36,
      "outputs": []
    },
    {
      "cell_type": "code",
      "source": [
        "%%time\n",
        "v = np.ones(N) / N\n",
        "\n",
        "max_iterations = 100\n",
        "tolerance = 10e-5\n",
        "beta = 0.8\n",
        "\n",
        "pg_scores = pageRank(M, v, max_iterations=max_iterations, tolerance=tolerance, beta=beta)"
      ],
      "metadata": {
        "colab": {
          "base_uri": "https://localhost:8080/"
        },
        "id": "oMEdVy7kRfJi",
        "outputId": "840b68f6-e824-4c7d-cb68-7ae78ecc1c11"
      },
      "execution_count": 37,
      "outputs": [
        {
          "output_type": "stream",
          "name": "stdout",
          "text": [
            "iteration 0: distance = inf\n",
            "iteration 1: distance = 0.004378351578260732\n",
            "iteration 2: distance = 0.001248679386638725\n",
            "iteration 3: distance = 0.0004592276737175909\n",
            "iteration 4: distance = 0.00019026002316278954\n",
            "Convergence reached after 5 iterations\n",
            "CPU times: user 663 ms, sys: 18.7 ms, total: 681 ms\n",
            "Wall time: 22.2 s\n"
          ]
        }
      ]
    },
    {
      "cell_type": "code",
      "source": [
        "k = 10\n",
        "top_indices = np.argsort(v)[-k:][::-1]\n",
        "print(f\"Top {k} users\")\n",
        "for user in top_indices: print(f\"user id: {user} -> PageRank score: {v[user]}\")"
      ],
      "metadata": {
        "colab": {
          "base_uri": "https://localhost:8080/"
        },
        "id": "OmGtf3XTd61u",
        "outputId": "6f121c78-5022-4de6-f135-ff95be21d8b5"
      },
      "execution_count": 19,
      "outputs": [
        {
          "output_type": "stream",
          "name": "stdout",
          "text": [
            "Top 10 users\n",
            "user id: 355 -> PageRank score: 0.0012879361104911886\n",
            "user id: 8200 -> PageRank score: 0.001034826403222483\n",
            "user id: 10201 -> PageRank score: 0.0009175049657905084\n",
            "user id: 2606 -> PageRank score: 0.0007770332402310646\n",
            "user id: 1324 -> PageRank score: 0.0007440237026176773\n",
            "user id: 2286 -> PageRank score: 0.0006381254881183282\n",
            "user id: 12180 -> PageRank score: 0.0005981284372064502\n",
            "user id: 3703 -> PageRank score: 0.0005767757737014895\n",
            "user id: 5806 -> PageRank score: 0.0005522109000103356\n",
            "user id: 1452 -> PageRank score: 0.0005005317758968956\n"
          ]
        }
      ]
    },
    {
      "cell_type": "markdown",
      "source": [
        "## **HITS (Hubbs and Authorities)**"
      ],
      "metadata": {
        "id": "cMw_vvZRxZ3B"
      }
    },
    {
      "cell_type": "markdown",
      "source": [
        "For this algorithm we need two matrices, build from the graph:\n",
        "1. $L$, a $N \\times N$ matrix in which $L_{ij} = 1$ if there's a link from node $i$ to node $j$ in the graph, $0$ otherwise\n",
        "2. $L^T$, a $N \\times N$ matrix in which $L_{ij} = 1$ if there's a link from node $j$ to node $i$ in the graph, $0$ otherwise"
      ],
      "metadata": {
        "id": "tJUP39mexi6v"
      }
    },
    {
      "cell_type": "code",
      "source": [
        "# edges contains couples (node_src, node_dst), so it's easy to represent both L and its transposed in triplets form starting from edges\n",
        "L = edges.map(lambda couple: (couple[0], couple[1], 1.0)).cache()\n",
        "L_T = edges.map(lambda couple: (couple[1], couple[0], 1.0)).cache()"
      ],
      "metadata": {
        "id": "m7iDVZ2M0-z1"
      },
      "execution_count": 44,
      "outputs": []
    },
    {
      "cell_type": "code",
      "source": [
        "def HITS(L, L_T, authorities, hubs, max_iterations=100, tolerance=10e-5, beta=0.8):\n",
        "    iteration = 0\n",
        "    hub_dist, auth_dist = float('inf'), float('inf')\n",
        "    while iteration < max_iterations:\n",
        "        print(f\"iteration {iteration}: hubs distance = {hub_dist} | authorities distance = {auth_dist}\")\n",
        "\n",
        "        prev_hubs = hubs.copy()\n",
        "        prev_authorities = authorities.copy()\n",
        "\n",
        "        # broadcast hubs and authorities to each node of the cluster\n",
        "        hubs_bdcast = sc.broadcast(hubs)\n",
        "        authorities_bdcast = sc.broadcast(authorities)\n",
        "\n",
        "\n",
        "        # AUTHORITIES UPDATE\n",
        "        # matrix - vector multiplication (distributed)\n",
        "        authority_scores = L_T.map(lambda l: (l[0], l[2]*hubs_bdcast.value[l[1]])).reduceByKey(lambda x, y: x + y).sortByKey().collect()\n",
        "        # update authorities vector (local)\n",
        "        print(\"mult completed!\")\n",
        "        for (user, auth_score) in authority_scores: authorities[user] = auth_score\n",
        "        print(\"auth scores updated!\")\n",
        "        # authorities vector normalization\n",
        "        authorities /= np.linalg.norm(authorities)\n",
        "        print(\"auth normalized!\")\n",
        "\n",
        "        # HUBS UPDATE\n",
        "        # matrix - vector multiplication (distributed)\n",
        "        hubs_scores = L.map(lambda l: (l[0], l[2]*authorities_bdcast.value[l[1]])).reduceByKey(lambda x, y: x + y).sortByKey().collect()\n",
        "        # update hubs vector (local)\n",
        "        for (user, hub_score) in hubs_scores: hubs[user] = hub_score\n",
        "        # hubs vector normalization\n",
        "        hubs /= np.linalg.norm(hubs)\n",
        "\n",
        "        hub_dist = np.linalg.norm(hubs - prev_hubs)\n",
        "        auth_dist = np.linalg.norm(authorities - prev_authorities)\n",
        "\n",
        "        if hub_dist < tolerance and auth_dist < tolerance:\n",
        "            print(f\"Convergence reached after {iteration+1} iterations\")\n",
        "            break\n",
        "\n",
        "        iteration += 1\n",
        "\n",
        "    return authorities, hubs"
      ],
      "metadata": {
        "id": "i9p6O7wQ2r-S"
      },
      "execution_count": 45,
      "outputs": []
    },
    {
      "cell_type": "code",
      "source": [
        "%%time\n",
        "\n",
        "# authority and hub vectors are indexed with users\n",
        "authorities = np.ones(N)\n",
        "hubs = np.ones(N)\n",
        "\n",
        "authorities, hubs = HITS(L, L_T, authorities, hubs)"
      ],
      "metadata": {
        "id": "prOFkeT914nv",
        "outputId": "6c834393-8e55-4e2e-ea79-ad4f9d47dd29",
        "colab": {
          "base_uri": "https://localhost:8080/",
          "height": 695
        }
      },
      "execution_count": 46,
      "outputs": [
        {
          "output_type": "stream",
          "name": "stdout",
          "text": [
            "iteration 0: hubs distance = inf | authorities distance = inf\n",
            "mult completed!\n",
            "auth scores updated!\n",
            "auth normalized!\n"
          ]
        },
        {
          "output_type": "stream",
          "name": "stderr",
          "text": [
            "ERROR:root:KeyboardInterrupt while sending command.\n",
            "Traceback (most recent call last):\n",
            "  File \"/usr/local/lib/python3.11/dist-packages/py4j/java_gateway.py\", line 1038, in send_command\n",
            "    response = connection.send_command(command)\n",
            "               ^^^^^^^^^^^^^^^^^^^^^^^^^^^^^^^^\n",
            "  File \"/usr/local/lib/python3.11/dist-packages/py4j/clientserver.py\", line 511, in send_command\n",
            "    answer = smart_decode(self.stream.readline()[:-1])\n",
            "                          ^^^^^^^^^^^^^^^^^^^^^^\n",
            "  File \"/usr/lib/python3.11/socket.py\", line 718, in readinto\n",
            "    return self._sock.recv_into(b)\n",
            "           ^^^^^^^^^^^^^^^^^^^^^^^\n",
            "KeyboardInterrupt\n"
          ]
        },
        {
          "output_type": "error",
          "ename": "KeyboardInterrupt",
          "evalue": "",
          "traceback": [
            "\u001b[0;31m---------------------------------------------------------------------------\u001b[0m",
            "\u001b[0;31mKeyboardInterrupt\u001b[0m                         Traceback (most recent call last)",
            "\u001b[0;32m<timed exec>\u001b[0m in \u001b[0;36m<module>\u001b[0;34m\u001b[0m\n",
            "\u001b[0;32m<ipython-input-45-533e3fcfdccd>\u001b[0m in \u001b[0;36mHITS\u001b[0;34m(L, L_T, authorities, hubs, max_iterations, tolerance, beta)\u001b[0m\n\u001b[1;32m     26\u001b[0m         \u001b[0;31m# HUBS UPDATE\u001b[0m\u001b[0;34m\u001b[0m\u001b[0;34m\u001b[0m\u001b[0m\n\u001b[1;32m     27\u001b[0m         \u001b[0;31m# matrix - vector multiplication (distributed)\u001b[0m\u001b[0;34m\u001b[0m\u001b[0;34m\u001b[0m\u001b[0m\n\u001b[0;32m---> 28\u001b[0;31m         \u001b[0mhubs_scores\u001b[0m \u001b[0;34m=\u001b[0m \u001b[0mL\u001b[0m\u001b[0;34m.\u001b[0m\u001b[0mmap\u001b[0m\u001b[0;34m(\u001b[0m\u001b[0;32mlambda\u001b[0m \u001b[0ml\u001b[0m\u001b[0;34m:\u001b[0m \u001b[0;34m(\u001b[0m\u001b[0ml\u001b[0m\u001b[0;34m[\u001b[0m\u001b[0;36m0\u001b[0m\u001b[0;34m]\u001b[0m\u001b[0;34m,\u001b[0m \u001b[0ml\u001b[0m\u001b[0;34m[\u001b[0m\u001b[0;36m2\u001b[0m\u001b[0;34m]\u001b[0m\u001b[0;34m*\u001b[0m\u001b[0mauthorities_bdcast\u001b[0m\u001b[0;34m.\u001b[0m\u001b[0mvalue\u001b[0m\u001b[0;34m[\u001b[0m\u001b[0ml\u001b[0m\u001b[0;34m[\u001b[0m\u001b[0;36m1\u001b[0m\u001b[0;34m]\u001b[0m\u001b[0;34m]\u001b[0m\u001b[0;34m)\u001b[0m\u001b[0;34m)\u001b[0m\u001b[0;34m.\u001b[0m\u001b[0mreduceByKey\u001b[0m\u001b[0;34m(\u001b[0m\u001b[0;32mlambda\u001b[0m \u001b[0mx\u001b[0m\u001b[0;34m,\u001b[0m \u001b[0my\u001b[0m\u001b[0;34m:\u001b[0m \u001b[0mx\u001b[0m \u001b[0;34m+\u001b[0m \u001b[0my\u001b[0m\u001b[0;34m)\u001b[0m\u001b[0;34m.\u001b[0m\u001b[0msortByKey\u001b[0m\u001b[0;34m(\u001b[0m\u001b[0;34m)\u001b[0m\u001b[0;34m.\u001b[0m\u001b[0mcollect\u001b[0m\u001b[0;34m(\u001b[0m\u001b[0;34m)\u001b[0m\u001b[0;34m\u001b[0m\u001b[0;34m\u001b[0m\u001b[0m\n\u001b[0m\u001b[1;32m     29\u001b[0m         \u001b[0;31m# update hubs vector (local)\u001b[0m\u001b[0;34m\u001b[0m\u001b[0;34m\u001b[0m\u001b[0m\n\u001b[1;32m     30\u001b[0m         \u001b[0;32mfor\u001b[0m \u001b[0;34m(\u001b[0m\u001b[0muser\u001b[0m\u001b[0;34m,\u001b[0m \u001b[0mhub_score\u001b[0m\u001b[0;34m)\u001b[0m \u001b[0;32min\u001b[0m \u001b[0mhubs_scores\u001b[0m\u001b[0;34m:\u001b[0m \u001b[0mhubs\u001b[0m\u001b[0;34m[\u001b[0m\u001b[0muser\u001b[0m\u001b[0;34m]\u001b[0m \u001b[0;34m=\u001b[0m \u001b[0mhub_score\u001b[0m\u001b[0;34m\u001b[0m\u001b[0;34m\u001b[0m\u001b[0m\n",
            "\u001b[0;32m/usr/local/lib/python3.11/dist-packages/pyspark/rdd.py\u001b[0m in \u001b[0;36mcollect\u001b[0;34m(self)\u001b[0m\n\u001b[1;32m   1831\u001b[0m         \u001b[0;32mwith\u001b[0m \u001b[0mSCCallSiteSync\u001b[0m\u001b[0;34m(\u001b[0m\u001b[0mself\u001b[0m\u001b[0;34m.\u001b[0m\u001b[0mcontext\u001b[0m\u001b[0;34m)\u001b[0m\u001b[0;34m:\u001b[0m\u001b[0;34m\u001b[0m\u001b[0;34m\u001b[0m\u001b[0m\n\u001b[1;32m   1832\u001b[0m             \u001b[0;32massert\u001b[0m \u001b[0mself\u001b[0m\u001b[0;34m.\u001b[0m\u001b[0mctx\u001b[0m\u001b[0;34m.\u001b[0m\u001b[0m_jvm\u001b[0m \u001b[0;32mis\u001b[0m \u001b[0;32mnot\u001b[0m \u001b[0;32mNone\u001b[0m\u001b[0;34m\u001b[0m\u001b[0;34m\u001b[0m\u001b[0m\n\u001b[0;32m-> 1833\u001b[0;31m             \u001b[0msock_info\u001b[0m \u001b[0;34m=\u001b[0m \u001b[0mself\u001b[0m\u001b[0;34m.\u001b[0m\u001b[0mctx\u001b[0m\u001b[0;34m.\u001b[0m\u001b[0m_jvm\u001b[0m\u001b[0;34m.\u001b[0m\u001b[0mPythonRDD\u001b[0m\u001b[0;34m.\u001b[0m\u001b[0mcollectAndServe\u001b[0m\u001b[0;34m(\u001b[0m\u001b[0mself\u001b[0m\u001b[0;34m.\u001b[0m\u001b[0m_jrdd\u001b[0m\u001b[0;34m.\u001b[0m\u001b[0mrdd\u001b[0m\u001b[0;34m(\u001b[0m\u001b[0;34m)\u001b[0m\u001b[0;34m)\u001b[0m\u001b[0;34m\u001b[0m\u001b[0;34m\u001b[0m\u001b[0m\n\u001b[0m\u001b[1;32m   1834\u001b[0m         \u001b[0;32mreturn\u001b[0m \u001b[0mlist\u001b[0m\u001b[0;34m(\u001b[0m\u001b[0m_load_from_socket\u001b[0m\u001b[0;34m(\u001b[0m\u001b[0msock_info\u001b[0m\u001b[0;34m,\u001b[0m \u001b[0mself\u001b[0m\u001b[0;34m.\u001b[0m\u001b[0m_jrdd_deserializer\u001b[0m\u001b[0;34m)\u001b[0m\u001b[0;34m)\u001b[0m\u001b[0;34m\u001b[0m\u001b[0;34m\u001b[0m\u001b[0m\n\u001b[1;32m   1835\u001b[0m \u001b[0;34m\u001b[0m\u001b[0m\n",
            "\u001b[0;32m/usr/local/lib/python3.11/dist-packages/py4j/java_gateway.py\u001b[0m in \u001b[0;36m__call__\u001b[0;34m(self, *args)\u001b[0m\n\u001b[1;32m   1319\u001b[0m             \u001b[0mproto\u001b[0m\u001b[0;34m.\u001b[0m\u001b[0mEND_COMMAND_PART\u001b[0m\u001b[0;34m\u001b[0m\u001b[0;34m\u001b[0m\u001b[0m\n\u001b[1;32m   1320\u001b[0m \u001b[0;34m\u001b[0m\u001b[0m\n\u001b[0;32m-> 1321\u001b[0;31m         \u001b[0manswer\u001b[0m \u001b[0;34m=\u001b[0m \u001b[0mself\u001b[0m\u001b[0;34m.\u001b[0m\u001b[0mgateway_client\u001b[0m\u001b[0;34m.\u001b[0m\u001b[0msend_command\u001b[0m\u001b[0;34m(\u001b[0m\u001b[0mcommand\u001b[0m\u001b[0;34m)\u001b[0m\u001b[0;34m\u001b[0m\u001b[0;34m\u001b[0m\u001b[0m\n\u001b[0m\u001b[1;32m   1322\u001b[0m         return_value = get_return_value(\n\u001b[1;32m   1323\u001b[0m             answer, self.gateway_client, self.target_id, self.name)\n",
            "\u001b[0;32m/usr/local/lib/python3.11/dist-packages/py4j/java_gateway.py\u001b[0m in \u001b[0;36msend_command\u001b[0;34m(self, command, retry, binary)\u001b[0m\n\u001b[1;32m   1036\u001b[0m         \u001b[0mconnection\u001b[0m \u001b[0;34m=\u001b[0m \u001b[0mself\u001b[0m\u001b[0;34m.\u001b[0m\u001b[0m_get_connection\u001b[0m\u001b[0;34m(\u001b[0m\u001b[0;34m)\u001b[0m\u001b[0;34m\u001b[0m\u001b[0;34m\u001b[0m\u001b[0m\n\u001b[1;32m   1037\u001b[0m         \u001b[0;32mtry\u001b[0m\u001b[0;34m:\u001b[0m\u001b[0;34m\u001b[0m\u001b[0;34m\u001b[0m\u001b[0m\n\u001b[0;32m-> 1038\u001b[0;31m             \u001b[0mresponse\u001b[0m \u001b[0;34m=\u001b[0m \u001b[0mconnection\u001b[0m\u001b[0;34m.\u001b[0m\u001b[0msend_command\u001b[0m\u001b[0;34m(\u001b[0m\u001b[0mcommand\u001b[0m\u001b[0;34m)\u001b[0m\u001b[0;34m\u001b[0m\u001b[0;34m\u001b[0m\u001b[0m\n\u001b[0m\u001b[1;32m   1039\u001b[0m             \u001b[0;32mif\u001b[0m \u001b[0mbinary\u001b[0m\u001b[0;34m:\u001b[0m\u001b[0;34m\u001b[0m\u001b[0;34m\u001b[0m\u001b[0m\n\u001b[1;32m   1040\u001b[0m                 \u001b[0;32mreturn\u001b[0m \u001b[0mresponse\u001b[0m\u001b[0;34m,\u001b[0m \u001b[0mself\u001b[0m\u001b[0;34m.\u001b[0m\u001b[0m_create_connection_guard\u001b[0m\u001b[0;34m(\u001b[0m\u001b[0mconnection\u001b[0m\u001b[0;34m)\u001b[0m\u001b[0;34m\u001b[0m\u001b[0;34m\u001b[0m\u001b[0m\n",
            "\u001b[0;32m/usr/local/lib/python3.11/dist-packages/py4j/clientserver.py\u001b[0m in \u001b[0;36msend_command\u001b[0;34m(self, command)\u001b[0m\n\u001b[1;32m    509\u001b[0m         \u001b[0;32mtry\u001b[0m\u001b[0;34m:\u001b[0m\u001b[0;34m\u001b[0m\u001b[0;34m\u001b[0m\u001b[0m\n\u001b[1;32m    510\u001b[0m             \u001b[0;32mwhile\u001b[0m \u001b[0;32mTrue\u001b[0m\u001b[0;34m:\u001b[0m\u001b[0;34m\u001b[0m\u001b[0;34m\u001b[0m\u001b[0m\n\u001b[0;32m--> 511\u001b[0;31m                 \u001b[0manswer\u001b[0m \u001b[0;34m=\u001b[0m \u001b[0msmart_decode\u001b[0m\u001b[0;34m(\u001b[0m\u001b[0mself\u001b[0m\u001b[0;34m.\u001b[0m\u001b[0mstream\u001b[0m\u001b[0;34m.\u001b[0m\u001b[0mreadline\u001b[0m\u001b[0;34m(\u001b[0m\u001b[0;34m)\u001b[0m\u001b[0;34m[\u001b[0m\u001b[0;34m:\u001b[0m\u001b[0;34m-\u001b[0m\u001b[0;36m1\u001b[0m\u001b[0;34m]\u001b[0m\u001b[0;34m)\u001b[0m\u001b[0;34m\u001b[0m\u001b[0;34m\u001b[0m\u001b[0m\n\u001b[0m\u001b[1;32m    512\u001b[0m                 \u001b[0mlogger\u001b[0m\u001b[0;34m.\u001b[0m\u001b[0mdebug\u001b[0m\u001b[0;34m(\u001b[0m\u001b[0;34m\"Answer received: {0}\"\u001b[0m\u001b[0;34m.\u001b[0m\u001b[0mformat\u001b[0m\u001b[0;34m(\u001b[0m\u001b[0manswer\u001b[0m\u001b[0;34m)\u001b[0m\u001b[0;34m)\u001b[0m\u001b[0;34m\u001b[0m\u001b[0;34m\u001b[0m\u001b[0m\n\u001b[1;32m    513\u001b[0m                 \u001b[0;31m# Happens when a the other end is dead. There might be an empty\u001b[0m\u001b[0;34m\u001b[0m\u001b[0;34m\u001b[0m\u001b[0m\n",
            "\u001b[0;32m/usr/lib/python3.11/socket.py\u001b[0m in \u001b[0;36mreadinto\u001b[0;34m(self, b)\u001b[0m\n\u001b[1;32m    716\u001b[0m         \u001b[0;32mwhile\u001b[0m \u001b[0;32mTrue\u001b[0m\u001b[0;34m:\u001b[0m\u001b[0;34m\u001b[0m\u001b[0;34m\u001b[0m\u001b[0m\n\u001b[1;32m    717\u001b[0m             \u001b[0;32mtry\u001b[0m\u001b[0;34m:\u001b[0m\u001b[0;34m\u001b[0m\u001b[0;34m\u001b[0m\u001b[0m\n\u001b[0;32m--> 718\u001b[0;31m                 \u001b[0;32mreturn\u001b[0m \u001b[0mself\u001b[0m\u001b[0;34m.\u001b[0m\u001b[0m_sock\u001b[0m\u001b[0;34m.\u001b[0m\u001b[0mrecv_into\u001b[0m\u001b[0;34m(\u001b[0m\u001b[0mb\u001b[0m\u001b[0;34m)\u001b[0m\u001b[0;34m\u001b[0m\u001b[0;34m\u001b[0m\u001b[0m\n\u001b[0m\u001b[1;32m    719\u001b[0m             \u001b[0;32mexcept\u001b[0m \u001b[0mtimeout\u001b[0m\u001b[0;34m:\u001b[0m\u001b[0;34m\u001b[0m\u001b[0;34m\u001b[0m\u001b[0m\n\u001b[1;32m    720\u001b[0m                 \u001b[0mself\u001b[0m\u001b[0;34m.\u001b[0m\u001b[0m_timeout_occurred\u001b[0m \u001b[0;34m=\u001b[0m \u001b[0;32mTrue\u001b[0m\u001b[0;34m\u001b[0m\u001b[0;34m\u001b[0m\u001b[0m\n",
            "\u001b[0;31mKeyboardInterrupt\u001b[0m: "
          ]
        }
      ]
    },
    {
      "cell_type": "code",
      "source": [],
      "metadata": {
        "id": "sckzp_UF2SjA"
      },
      "execution_count": null,
      "outputs": []
    }
  ]
}