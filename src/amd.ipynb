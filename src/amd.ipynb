{
  "nbformat": 4,
  "nbformat_minor": 0,
  "metadata": {
    "colab": {
      "provenance": [],
      "authorship_tag": "ABX9TyPWoLA5+YtQBTACiV/Kz2kW",
      "include_colab_link": true
    },
    "kernelspec": {
      "name": "python3",
      "display_name": "Python 3"
    },
    "language_info": {
      "name": "python"
    }
  },
  "cells": [
    {
      "cell_type": "markdown",
      "metadata": {
        "id": "view-in-github",
        "colab_type": "text"
      },
      "source": [
        "<a href=\"https://colab.research.google.com/github/EmanueleGiavardi/AMD_project/blob/main/src/amd.ipynb\" target=\"_parent\"><img src=\"https://colab.research.google.com/assets/colab-badge.svg\" alt=\"Open In Colab\"/></a>"
      ]
    },
    {
      "cell_type": "code",
      "source": [
        "!pip install -q kaggle pyspark"
      ],
      "metadata": {
        "id": "lVpPeMdRyhl-"
      },
      "execution_count": 1,
      "outputs": []
    },
    {
      "cell_type": "code",
      "source": [
        "import pyspark\n",
        "from pyspark.sql import functions as F\n",
        "import pandas as pd\n",
        "import numpy as np\n",
        "import os\n",
        "from google.colab import files\n",
        "from collections import Counter"
      ],
      "metadata": {
        "id": "6c2uPSW2UgA8"
      },
      "execution_count": 2,
      "outputs": []
    },
    {
      "cell_type": "code",
      "source": [
        "# please upload your kaggle.json file here\n",
        "files.upload()\n",
        "!ls -lha kaggle.json\n",
        "!mkdir -p ~/.kaggle\n",
        "!cp kaggle.json ~/.kaggle/\n",
        "!chmod 600 ~/.kaggle/kaggle.json"
      ],
      "metadata": {
        "colab": {
          "base_uri": "https://localhost:8080/",
          "height": 92
        },
        "id": "4HULTI5NxhlD",
        "outputId": "70e46909-7b69-4552-e92c-b6e8823d6f31"
      },
      "execution_count": 3,
      "outputs": [
        {
          "output_type": "display_data",
          "data": {
            "text/plain": [
              "<IPython.core.display.HTML object>"
            ],
            "text/html": [
              "\n",
              "     <input type=\"file\" id=\"files-ad6b2146-4264-4728-94d2-a557a0256800\" name=\"files[]\" multiple disabled\n",
              "        style=\"border:none\" />\n",
              "     <output id=\"result-ad6b2146-4264-4728-94d2-a557a0256800\">\n",
              "      Upload widget is only available when the cell has been executed in the\n",
              "      current browser session. Please rerun this cell to enable.\n",
              "      </output>\n",
              "      <script>// Copyright 2017 Google LLC\n",
              "//\n",
              "// Licensed under the Apache License, Version 2.0 (the \"License\");\n",
              "// you may not use this file except in compliance with the License.\n",
              "// You may obtain a copy of the License at\n",
              "//\n",
              "//      http://www.apache.org/licenses/LICENSE-2.0\n",
              "//\n",
              "// Unless required by applicable law or agreed to in writing, software\n",
              "// distributed under the License is distributed on an \"AS IS\" BASIS,\n",
              "// WITHOUT WARRANTIES OR CONDITIONS OF ANY KIND, either express or implied.\n",
              "// See the License for the specific language governing permissions and\n",
              "// limitations under the License.\n",
              "\n",
              "/**\n",
              " * @fileoverview Helpers for google.colab Python module.\n",
              " */\n",
              "(function(scope) {\n",
              "function span(text, styleAttributes = {}) {\n",
              "  const element = document.createElement('span');\n",
              "  element.textContent = text;\n",
              "  for (const key of Object.keys(styleAttributes)) {\n",
              "    element.style[key] = styleAttributes[key];\n",
              "  }\n",
              "  return element;\n",
              "}\n",
              "\n",
              "// Max number of bytes which will be uploaded at a time.\n",
              "const MAX_PAYLOAD_SIZE = 100 * 1024;\n",
              "\n",
              "function _uploadFiles(inputId, outputId) {\n",
              "  const steps = uploadFilesStep(inputId, outputId);\n",
              "  const outputElement = document.getElementById(outputId);\n",
              "  // Cache steps on the outputElement to make it available for the next call\n",
              "  // to uploadFilesContinue from Python.\n",
              "  outputElement.steps = steps;\n",
              "\n",
              "  return _uploadFilesContinue(outputId);\n",
              "}\n",
              "\n",
              "// This is roughly an async generator (not supported in the browser yet),\n",
              "// where there are multiple asynchronous steps and the Python side is going\n",
              "// to poll for completion of each step.\n",
              "// This uses a Promise to block the python side on completion of each step,\n",
              "// then passes the result of the previous step as the input to the next step.\n",
              "function _uploadFilesContinue(outputId) {\n",
              "  const outputElement = document.getElementById(outputId);\n",
              "  const steps = outputElement.steps;\n",
              "\n",
              "  const next = steps.next(outputElement.lastPromiseValue);\n",
              "  return Promise.resolve(next.value.promise).then((value) => {\n",
              "    // Cache the last promise value to make it available to the next\n",
              "    // step of the generator.\n",
              "    outputElement.lastPromiseValue = value;\n",
              "    return next.value.response;\n",
              "  });\n",
              "}\n",
              "\n",
              "/**\n",
              " * Generator function which is called between each async step of the upload\n",
              " * process.\n",
              " * @param {string} inputId Element ID of the input file picker element.\n",
              " * @param {string} outputId Element ID of the output display.\n",
              " * @return {!Iterable<!Object>} Iterable of next steps.\n",
              " */\n",
              "function* uploadFilesStep(inputId, outputId) {\n",
              "  const inputElement = document.getElementById(inputId);\n",
              "  inputElement.disabled = false;\n",
              "\n",
              "  const outputElement = document.getElementById(outputId);\n",
              "  outputElement.innerHTML = '';\n",
              "\n",
              "  const pickedPromise = new Promise((resolve) => {\n",
              "    inputElement.addEventListener('change', (e) => {\n",
              "      resolve(e.target.files);\n",
              "    });\n",
              "  });\n",
              "\n",
              "  const cancel = document.createElement('button');\n",
              "  inputElement.parentElement.appendChild(cancel);\n",
              "  cancel.textContent = 'Cancel upload';\n",
              "  const cancelPromise = new Promise((resolve) => {\n",
              "    cancel.onclick = () => {\n",
              "      resolve(null);\n",
              "    };\n",
              "  });\n",
              "\n",
              "  // Wait for the user to pick the files.\n",
              "  const files = yield {\n",
              "    promise: Promise.race([pickedPromise, cancelPromise]),\n",
              "    response: {\n",
              "      action: 'starting',\n",
              "    }\n",
              "  };\n",
              "\n",
              "  cancel.remove();\n",
              "\n",
              "  // Disable the input element since further picks are not allowed.\n",
              "  inputElement.disabled = true;\n",
              "\n",
              "  if (!files) {\n",
              "    return {\n",
              "      response: {\n",
              "        action: 'complete',\n",
              "      }\n",
              "    };\n",
              "  }\n",
              "\n",
              "  for (const file of files) {\n",
              "    const li = document.createElement('li');\n",
              "    li.append(span(file.name, {fontWeight: 'bold'}));\n",
              "    li.append(span(\n",
              "        `(${file.type || 'n/a'}) - ${file.size} bytes, ` +\n",
              "        `last modified: ${\n",
              "            file.lastModifiedDate ? file.lastModifiedDate.toLocaleDateString() :\n",
              "                                    'n/a'} - `));\n",
              "    const percent = span('0% done');\n",
              "    li.appendChild(percent);\n",
              "\n",
              "    outputElement.appendChild(li);\n",
              "\n",
              "    const fileDataPromise = new Promise((resolve) => {\n",
              "      const reader = new FileReader();\n",
              "      reader.onload = (e) => {\n",
              "        resolve(e.target.result);\n",
              "      };\n",
              "      reader.readAsArrayBuffer(file);\n",
              "    });\n",
              "    // Wait for the data to be ready.\n",
              "    let fileData = yield {\n",
              "      promise: fileDataPromise,\n",
              "      response: {\n",
              "        action: 'continue',\n",
              "      }\n",
              "    };\n",
              "\n",
              "    // Use a chunked sending to avoid message size limits. See b/62115660.\n",
              "    let position = 0;\n",
              "    do {\n",
              "      const length = Math.min(fileData.byteLength - position, MAX_PAYLOAD_SIZE);\n",
              "      const chunk = new Uint8Array(fileData, position, length);\n",
              "      position += length;\n",
              "\n",
              "      const base64 = btoa(String.fromCharCode.apply(null, chunk));\n",
              "      yield {\n",
              "        response: {\n",
              "          action: 'append',\n",
              "          file: file.name,\n",
              "          data: base64,\n",
              "        },\n",
              "      };\n",
              "\n",
              "      let percentDone = fileData.byteLength === 0 ?\n",
              "          100 :\n",
              "          Math.round((position / fileData.byteLength) * 100);\n",
              "      percent.textContent = `${percentDone}% done`;\n",
              "\n",
              "    } while (position < fileData.byteLength);\n",
              "  }\n",
              "\n",
              "  // All done.\n",
              "  yield {\n",
              "    response: {\n",
              "      action: 'complete',\n",
              "    }\n",
              "  };\n",
              "}\n",
              "\n",
              "scope.google = scope.google || {};\n",
              "scope.google.colab = scope.google.colab || {};\n",
              "scope.google.colab._files = {\n",
              "  _uploadFiles,\n",
              "  _uploadFilesContinue,\n",
              "};\n",
              "})(self);\n",
              "</script> "
            ]
          },
          "metadata": {}
        },
        {
          "output_type": "stream",
          "name": "stdout",
          "text": [
            "Saving kaggle.json to kaggle.json\n",
            "-rw-r--r-- 1 root root 72 May 28 07:10 kaggle.json\n"
          ]
        }
      ]
    },
    {
      "cell_type": "code",
      "source": [
        "!kaggle datasets download -d \"mohamedbakhet/amazon-books-reviews\"\n",
        "!unzip amazon-books-reviews.zip\n",
        "!rm -r amazon-books-reviews.zip"
      ],
      "metadata": {
        "colab": {
          "base_uri": "https://localhost:8080/"
        },
        "id": "9DpRDvklyoWs",
        "outputId": "4358bdbc-907d-4eeb-d4ff-394ec57b70bb"
      },
      "execution_count": 4,
      "outputs": [
        {
          "output_type": "stream",
          "name": "stdout",
          "text": [
            "Dataset URL: https://www.kaggle.com/datasets/mohamedbakhet/amazon-books-reviews\n",
            "License(s): CC0-1.0\n",
            "Downloading amazon-books-reviews.zip to /content\n",
            " 98% 1.04G/1.06G [00:13<00:00, 233MB/s]\n",
            "100% 1.06G/1.06G [00:13<00:00, 82.5MB/s]\n",
            "Archive:  amazon-books-reviews.zip\n",
            "  inflating: Books_rating.csv        \n",
            "  inflating: books_data.csv          \n"
          ]
        }
      ]
    },
    {
      "cell_type": "code",
      "source": [
        "spark = pyspark.sql.SparkSession.builder.master(\"local[*]\").appName(\"AMD_project\").getOrCreate()\n",
        "sc = spark.sparkContext"
      ],
      "metadata": {
        "id": "Zq7n-9Bo0BmL"
      },
      "execution_count": 5,
      "outputs": []
    },
    {
      "cell_type": "code",
      "source": [
        "books_rating_df = spark.read.csv(\"Books_rating.csv\", header=True, inferSchema=True)\n",
        "books_data_df = spark.read.csv(\"books_data.csv\", header=True, inferSchema=True)\n",
        "books_rating_df.printSchema()\n",
        "books_data_df.printSchema()"
      ],
      "metadata": {
        "id": "P4r1T4pQ9q8z",
        "colab": {
          "base_uri": "https://localhost:8080/"
        },
        "outputId": "b5a1ba8d-1405-4e6b-e3fb-be9c14f4f014"
      },
      "execution_count": 61,
      "outputs": [
        {
          "output_type": "stream",
          "name": "stdout",
          "text": [
            "root\n",
            " |-- Id: string (nullable = true)\n",
            " |-- Title: string (nullable = true)\n",
            " |-- Price: string (nullable = true)\n",
            " |-- User_id: string (nullable = true)\n",
            " |-- profileName: string (nullable = true)\n",
            " |-- review/helpfulness: string (nullable = true)\n",
            " |-- review/score: string (nullable = true)\n",
            " |-- review/time: string (nullable = true)\n",
            " |-- review/summary: string (nullable = true)\n",
            " |-- review/text: string (nullable = true)\n",
            "\n",
            "root\n",
            " |-- Title: string (nullable = true)\n",
            " |-- description: string (nullable = true)\n",
            " |-- authors: string (nullable = true)\n",
            " |-- image: string (nullable = true)\n",
            " |-- previewLink: string (nullable = true)\n",
            " |-- publisher: string (nullable = true)\n",
            " |-- publishedDate: string (nullable = true)\n",
            " |-- infoLink: string (nullable = true)\n",
            " |-- categories: string (nullable = true)\n",
            " |-- ratingsCount: string (nullable = true)\n",
            "\n"
          ]
        }
      ]
    },
    {
      "cell_type": "code",
      "source": [
        "# books rating subsampling\n",
        "\n",
        "random_state = 42\n",
        "ratings_count = books_rating_df.count()\n",
        "sampling_frac = 0.01\n",
        "\n",
        "# probabilistic approach: keeps each line with prob = fraction\n",
        "# books_rating_df_sub = books_rating_df.sample(fraction=sampling_frac, seed=random_state)\n",
        "\n",
        "# keeps exactly (sampling_frac * count) lines, assuming books already in casual order\n",
        "books_rating_df_sub = books_rating_df.limit(int(sampling_frac * ratings_count))\n",
        "print(f\"sample has {int(sampling_frac * ratings_count)} lines\")"
      ],
      "metadata": {
        "id": "vikm8jG7Csce",
        "colab": {
          "base_uri": "https://localhost:8080/"
        },
        "outputId": "d66203ae-597d-46be-c95c-0463bd67ebf7"
      },
      "execution_count": 64,
      "outputs": [
        {
          "output_type": "stream",
          "name": "stdout",
          "text": [
            "sample has 30000 lines\n"
          ]
        }
      ]
    },
    {
      "cell_type": "code",
      "source": [
        "books_data_df.select(\"categories\").take(10)"
      ],
      "metadata": {
        "id": "4OqcFc6V_49F",
        "outputId": "a20fbe12-021d-410f-938b-5cc2cb00da29",
        "colab": {
          "base_uri": "https://localhost:8080/"
        }
      },
      "execution_count": 62,
      "outputs": [
        {
          "output_type": "execute_result",
          "data": {
            "text/plain": [
              "[Row(categories=\"['Comics & Graphic Novels']\"),\n",
              " Row(categories='http://books.google.nl/books?id=IjvHQsCn_pgC&printsec=frontcover&dq=Dr.+Seuss:+American+Icon&hl=&cd=1&source=gbs_api'),\n",
              " Row(categories=\"['Religion']\"),\n",
              " Row(categories=\"['Fiction']\"),\n",
              " Row(categories=None),\n",
              " Row(categories=\"['Religion']\"),\n",
              " Row(categories=None),\n",
              " Row(categories=None),\n",
              " Row(categories=\"['Biography & Autobiography']\"),\n",
              " Row(categories=\"['Social Science']\")]"
            ]
          },
          "metadata": {},
          "execution_count": 62
        }
      ]
    },
    {
      "cell_type": "markdown",
      "source": [
        "# **Link Analysis: finding influential/authoritative users**"
      ],
      "metadata": {
        "id": "7UNXVlWV6R4m"
      }
    },
    {
      "cell_type": "markdown",
      "source": [
        "## **Graph creation**\n",
        "\n",
        "- nodes → users\n",
        "- edges → links between users if two users reviewed the same book\n",
        "\n",
        "the graph is **oriented**, so a link from ```u2``` to ```u1``` exists if ```u1``` and ```u2``` reviewd the same book, but the score (helpfulness) of the ```u1```'s review for that book is higher than the score that ```u2``` obtained for his/her review of that specific book.\n",
        "\n",
        "Actually, we take into account a subset of all the possibile books: in books_data csv there's a column named \"categories\" that contains:\n",
        "- in most of the cases a string referring to a list of categories, such as ['Religion', 'Politics', ...]\n",
        "- in some cases some rubbish data, for instance None values or links to Google Books Store\n",
        "\n",
        "Thus, we just consider the subset of books for which the value of the column \"categories\" matches the regular expression \\\\[.*]\\, so to turn this string into an actual list of strings.\n",
        "\n",
        "This choice was made because the idea is to apply Topic Sensitive PageRank to the graph, where the \"topic\" associated with each node (user) is a \"preferred literary genre\", given by the most-reviewed genre by that specific user\n",
        "\n",
        "```\n",
        "# graph creation pseudocode:\n",
        "\n",
        "for each book b (with well-formatted categories):\n",
        "    for each (u1, u2) such that both u1 and u2 reviewed b:\n",
        "        if (helpfulness(u1, b)) > (helpfulness(u1, b)):\n",
        "            add edge from u2 to u1\n",
        "```\n",
        "\n",
        "\n",
        "---------------\n",
        "\n",
        "given $R$ the review table and given $R' = Π_{Title, User\\_id, helpfulness}(R)$, we create the table\n",
        "\n",
        "$$J = \\sigma_{helpfulness_1 > helpfulness_2}(R' ⨝_{Title} R') $$\n",
        "\n",
        "This table has the schema\n",
        "```\n",
        "root\n",
        " |-- User_id_1\n",
        " |-- Title\n",
        " |-- User_id_2\n",
        " |-- Helpfulness_1\n",
        " |-- Helpfulness_2\n",
        "```\n",
        "and it's build such that both ```User_id_1``` and ```User_id_2``` reviewd the book named with ```Title``` and ```Helpfulness_1``` $>$ ```Helpfulness_2```\n",
        "\n",
        "Starting from this table we create the graph according to the criterium explained above"
      ],
      "metadata": {
        "id": "cIEICSONWmMz"
      }
    },
    {
      "cell_type": "markdown",
      "source": [
        "**NOTE**:\n",
        "\n",
        "the helpfulness score of each review does not share a common scaling (we have things like 0/0, 4/5, 8/10, 78/82 ...)\n",
        "Just for now, the score is simply obtained turning the string \"X/Y\" into a float number and evaluating it.\n",
        "\n",
        "> TODO NEXT: find a cleverer way to deal with helpfulness. The \"X/Y\" could be interpreted as \"people who found the review useful/total people who voted\", even though this is not clear from the dataset specifications (or from the Amazon website). With this assumption, however, it becomes important to take into account the number of people who voted, instead of just considering the fraction of appreciation.\n",
        "\n"
      ],
      "metadata": {
        "id": "r0AuSV2gRkcX"
      }
    },
    {
      "cell_type": "code",
      "source": [
        "from pyspark.sql.functions import split, col, when\n",
        "\n",
        "# TODO: replace with normalized version\n",
        "def get_helpfulness_score(col_name):\n",
        "    num = split(col(col_name), \"/\").getItem(0).cast(\"float\")\n",
        "    den = split(col(col_name), \"/\").getItem(1).cast(\"float\")\n",
        "    return when(den != 0, num / den).otherwise(0.0)\n",
        "\n",
        "R_first = books_rating_df_sub.select([\"Title\", \"User_id\", \"review/helpfulness\"]).filter(col('User_id').isNotNull())\n",
        "R1 = R_first.alias(\"R1\")\n",
        "R2 = R_first.alias(\"R2\")\n",
        "\n",
        "J = R1.join(R2, col(\"R1.Title\") == col(\"R2.Title\")) \\\n",
        "      .filter(col(\"R1.User_id\") != col(\"R2.User_id\")) \\\n",
        "      .select(\n",
        "          col(\"R1.Title\").alias(\"Title\"),\n",
        "          col(\"R1.User_id\").alias(\"User_id_1\"),\n",
        "          col(\"R2.User_id\").alias(\"User_id_2\"),\n",
        "          get_helpfulness_score(\"R1.review/helpfulness\").alias(\"helpfulness_1\"),\n",
        "          get_helpfulness_score(\"R2.review/helpfulness\").alias(\"helpfulness_2\")\n",
        "      ).filter(col(\"helpfulness_1\") > col(\"helpfulness_2\"))\n",
        "\n",
        "# J schema: | Title | User_id_1 | User_id_2 | helpfulness_1 | helpfulness_2 |"
      ],
      "metadata": {
        "id": "oOoD6bekY-QV"
      },
      "execution_count": 94,
      "outputs": []
    },
    {
      "cell_type": "code",
      "source": [
        "# finding books with well-formatted \"categories\" value\n",
        "# TODO: additional checks on there values... a simple regular expression [*] might not be enough!\n",
        "\n",
        "from pyspark.sql.functions import from_json\n",
        "from pyspark.sql.types import ArrayType, StringType\n",
        "\n",
        "genres_schema = ArrayType(StringType())\n",
        "\n",
        "# output example: Row(Title='Wonderful Worship in Smaller Churches', Genres=['Religion', 'Politics']),\n",
        "genres = books_data_df.filter((col(\"categories\").isNotNull()) & (col(\"categories\").rlike(r\"^\\[.*\\]$\"))).withColumn(\"Genres\", from_json(\"categories\", genres_schema)).select(\"Title\", \"Genres\")\n",
        "\n",
        "# filtering J_filtered keeping only books with well-formatted categories\n",
        "J_filtered = J.join(genres, on=\"Title\", how=\"inner\")\n",
        "J_filtered.take(10)"
      ],
      "metadata": {
        "id": "KLPJM3JkTpVK",
        "outputId": "daa6f76e-68ea-438e-a754-dde9c43e1bfa",
        "colab": {
          "base_uri": "https://localhost:8080/"
        }
      },
      "execution_count": 95,
      "outputs": [
        {
          "output_type": "execute_result",
          "data": {
            "text/plain": [
              "[Row(Title='\"\"\"Our Brown-Eyed Boy\"\"\"', User_id_1='A3KDWTJK489NTM', User_id_2='A3JQK9NSCJI4AR', helpfulness_1=0.5, helpfulness_2=0.0, Genres=['Biography & Autobiography']),\n",
              " Row(Title='\"\"\"Our Brown-Eyed Boy\"\"\"', User_id_1='A3KDWTJK489NTM', User_id_2='A2H4Z5FPW4ER5K', helpfulness_1=0.5, helpfulness_2=0.0, Genres=['Biography & Autobiography']),\n",
              " Row(Title='\"\"\"Our Brown-Eyed Boy\"\"\"', User_id_1='A2DSK1GG7GBDNW', User_id_2='AZA7EKIK1TKZX', helpfulness_1=0.8333333333333334, helpfulness_2=0.6666666666666666, Genres=['Biography & Autobiography']),\n",
              " Row(Title='\"\"\"Our Brown-Eyed Boy\"\"\"', User_id_1='A2DSK1GG7GBDNW', User_id_2='A1AJ1FG9SNJMZ1', helpfulness_1=0.8333333333333334, helpfulness_2=0.7142857142857143, Genres=['Biography & Autobiography']),\n",
              " Row(Title='\"\"\"Our Brown-Eyed Boy\"\"\"', User_id_1='A2DSK1GG7GBDNW', User_id_2='A3JQK9NSCJI4AR', helpfulness_1=0.8333333333333334, helpfulness_2=0.0, Genres=['Biography & Autobiography']),\n",
              " Row(Title='\"\"\"Our Brown-Eyed Boy\"\"\"', User_id_1='A2DSK1GG7GBDNW', User_id_2='A3KDWTJK489NTM', helpfulness_1=0.8333333333333334, helpfulness_2=0.5, Genres=['Biography & Autobiography']),\n",
              " Row(Title='\"\"\"Our Brown-Eyed Boy\"\"\"', User_id_1='A2DSK1GG7GBDNW', User_id_2='A2H4Z5FPW4ER5K', helpfulness_1=0.8333333333333334, helpfulness_2=0.0, Genres=['Biography & Autobiography']),\n",
              " Row(Title='\"\"\"Our Brown-Eyed Boy\"\"\"', User_id_1='A1AJ1FG9SNJMZ1', User_id_2='AZA7EKIK1TKZX', helpfulness_1=0.7142857142857143, helpfulness_2=0.6666666666666666, Genres=['Biography & Autobiography']),\n",
              " Row(Title='\"\"\"Our Brown-Eyed Boy\"\"\"', User_id_1='A1AJ1FG9SNJMZ1', User_id_2='A3JQK9NSCJI4AR', helpfulness_1=0.7142857142857143, helpfulness_2=0.0, Genres=['Biography & Autobiography']),\n",
              " Row(Title='\"\"\"Our Brown-Eyed Boy\"\"\"', User_id_1='A1AJ1FG9SNJMZ1', User_id_2='A3KDWTJK489NTM', helpfulness_1=0.7142857142857143, helpfulness_2=0.5, Genres=['Biography & Autobiography'])]"
            ]
          },
          "metadata": {},
          "execution_count": 95
        }
      ]
    },
    {
      "cell_type": "code",
      "source": [
        "# finding preferred genre for each user in subsampled dataset\n",
        "\n",
        "T1 = books_rating_df_sub.select(col(\"User_id\"), col(\"Title\")).alias(\"T1\")\n",
        "T2 = genres.alias(\"T2\")\n",
        "\n",
        "genres_per_review = T1.join(T2, T1.Title == T2.Title).select(\"User_id\", \"T1.Title\", \"Genres\").filter(col(\"User_id\").isNotNull())\n",
        "genres_per_review.take(5)"
      ],
      "metadata": {
        "id": "ZpYUb2u1a1pV",
        "outputId": "db4e3fde-8cbe-47e1-b199-67ba89097a0c",
        "colab": {
          "base_uri": "https://localhost:8080/"
        }
      },
      "execution_count": 98,
      "outputs": [
        {
          "output_type": "execute_result",
          "data": {
            "text/plain": [
              "[Row(User_id='AVCGYZL8FQQTD', Title='Its Only Art If Its Well Hung!', Genres=['Comics & Graphic Novels']),\n",
              " Row(User_id='A3OQWLU31BU1Y', Title='Wonderful Worship in Smaller Churches', Genres=['Religion']),\n",
              " Row(User_id='AGKGOH65VTRR4', Title='Wonderful Worship in Smaller Churches', Genres=['Religion']),\n",
              " Row(User_id='A373VVEU6Z9M0N', Title='Wonderful Worship in Smaller Churches', Genres=['Religion']),\n",
              " Row(User_id='AZ0IOBU20TBOP', Title='Wonderful Worship in Smaller Churches', Genres=['Religion'])]"
            ]
          },
          "metadata": {},
          "execution_count": 98
        }
      ]
    },
    {
      "cell_type": "code",
      "source": [
        "# setting the user as key and grouping by key we have something like:\n",
        "# ('A3U1XS6XK6YUU4' -> [['Fiction', 'Drama'], ['Religion'], ['Religion', 'Politics']]). So the value is a list of lists: Each internal list represents the genres of each book reviewd by the user\n",
        "\n",
        "# [genre for book_genres in external_list for genre in book_genres] just flattens the list:\n",
        "# [['Fiction', 'Drama'], ['Religion'], ['Religion', 'Politics']] => ['Fiction', 'Drama', 'Religion', 'Religion', 'Politics']\n",
        "# same as:\n",
        "#for book_genres in external_list:\n",
        "#    for genre in book_genres:\n",
        "#        append genre to resulting list\n",
        "\n",
        "# the Counter simply returns the most common genre (in the example: 'Religion')\n",
        "# if the counting is the same for two distinct genres, it is returned the first one according to the ordering\n",
        "\n",
        "genres_per_user = genres_per_review.rdd.map(lambda row: (row['User_id'], row['Genres'])).groupByKey() \\\n",
        "    .mapValues(lambda external_list: [genre for book_genres in external_list for genre in book_genres]).mapValues(\n",
        "    lambda genres: Counter(genres).most_common(1)[0][0] if genres else None\n",
        ")\n",
        "\n",
        "# so here we have a \"Topic\" related to each user for TSPR\n",
        "genres_per_user.take(10)"
      ],
      "metadata": {
        "id": "pDiejon-tU1Q",
        "outputId": "009bdb59-463e-45ec-9f12-c89dfcb6c126",
        "colab": {
          "base_uri": "https://localhost:8080/"
        }
      },
      "execution_count": 99,
      "outputs": [
        {
          "output_type": "execute_result",
          "data": {
            "text/plain": [
              "[('AVCGYZL8FQQTD', 'Comics & Graphic Novels'),\n",
              " ('AGKGOH65VTRR4', 'Religion'),\n",
              " ('A3OZDTEEAF8GS9', 'Fiction'),\n",
              " ('A3U1XS6XK6YUU4', 'Fiction'),\n",
              " ('A1XNI3654I4ME2', 'Fiction'),\n",
              " ('A3T591DTKPYCVW', 'Fiction'),\n",
              " ('A3S5YQQWBO0LGI', 'Fiction'),\n",
              " ('A3OS2QHEH495TD', 'Fiction'),\n",
              " ('A2XXVRH6VJ8S7Q', 'Fiction'),\n",
              " ('A2ABV8FXF88O9P', 'Fiction')]"
            ]
          },
          "metadata": {},
          "execution_count": 99
        }
      ]
    },
    {
      "cell_type": "code",
      "source": [
        "# just for curiosity: top 10 preferred genres\n",
        "\n",
        "d = genres_per_user.collectAsMap()\n",
        "Counter(d.values()).most_common(10)"
      ],
      "metadata": {
        "id": "9C2ePgc9txAR",
        "outputId": "1b826688-2742-4018-c997-085151b12075",
        "colab": {
          "base_uri": "https://localhost:8080/"
        }
      },
      "execution_count": 100,
      "outputs": [
        {
          "output_type": "execute_result",
          "data": {
            "text/plain": [
              "[('Fiction', 5727),\n",
              " ('Book burning', 980),\n",
              " ('Business & Economics', 587),\n",
              " ('Education', 575),\n",
              " ('Biography & Autobiography', 524),\n",
              " ('Religion', 522),\n",
              " ('American fiction', 463),\n",
              " ('History', 411),\n",
              " ('True Crime', 353),\n",
              " ('Body, Mind & Spirit', 337)]"
            ]
          },
          "metadata": {},
          "execution_count": 100
        }
      ]
    },
    {
      "cell_type": "markdown",
      "source": [
        "The idea now is to associate an **increasing integer value from $0$ to $N-1$** to each one of the $N$ user ids. In this way:\n",
        "- An edge is simply going to be represented as a couple of integers $(i, j)$, where $i$ is the integer value related to the user having the outgoing connection and $j$ us the integer value related to the user having the incoming connection\n",
        "- PageRank values will be stored in a simple array $V$ of $N$ elements, such that $V[i]$ = pageRank value for the user associated to integer value $i$\n",
        "\n"
      ],
      "metadata": {
        "id": "WlQL2g1PTy4m"
      }
    },
    {
      "cell_type": "code",
      "source": [
        "unique_users = J_filtered.select(col(\"User_id_1\").alias(\"User_id\")) \\\n",
        "    .union(J_filtered.select(col(\"User_id_2\").alias(\"User_id\"))) \\\n",
        "    .distinct()\n",
        "\n",
        "# [('user1_id', integer1), ... ('userN_id', integerN)]\n",
        "user_ids_rdd = unique_users.rdd.map(lambda row: row[\"User_id\"]).zipWithIndex()\n",
        "N = user_ids_rdd.count()\n",
        "print(f\"There are {N} unique users\")"
      ],
      "metadata": {
        "colab": {
          "base_uri": "https://localhost:8080/"
        },
        "id": "TrfbBSEf87jY",
        "outputId": "5c28b8b8-f2db-4e0e-c23b-1c979aefb19a"
      },
      "execution_count": 96,
      "outputs": [
        {
          "output_type": "stream",
          "name": "stdout",
          "text": [
            "There are 15435 unique users\n"
          ]
        }
      ]
    },
    {
      "cell_type": "markdown",
      "source": [
        "Now there could be two ways of creating the $(i, j)$ couples:\n",
        "1. from ```user_ids_rdd``` a Dataframe with schema ```[User_id, Integer_value]``` could be created, being able to associate each ```Integer_value``` both to ```User_id_1``` and ```User_id_2``` using join operations.\n",
        "2. convert ```user_ids_rdd``` in a dictionary which is broadcasted to every computing node of the cluster, so that becomes easy to retrieve the ```Integer_value``` extracting the value for the specific ```User_id``` key\n",
        "\n",
        "Since the number of unique users is not expected to be _that high_, the second option is chosen"
      ],
      "metadata": {
        "id": "A4lcUPbEW-KF"
      }
    },
    {
      "cell_type": "code",
      "source": [
        "user_ids_dict = user_ids_rdd.collectAsMap()\n",
        "bdcast = sc.broadcast(user_ids_dict)"
      ],
      "metadata": {
        "id": "Jee4fKWYZT50"
      },
      "execution_count": 84,
      "outputs": []
    },
    {
      "cell_type": "code",
      "source": [
        "# list of couples (node_src, node_dst)\n",
        "edges = J_filtered.rdd.map(lambda row : (bdcast.value[row[2]], bdcast.value[row[1]]))"
      ],
      "metadata": {
        "id": "sAzZ-FMaZzcO"
      },
      "execution_count": 85,
      "outputs": []
    },
    {
      "cell_type": "markdown",
      "source": [
        "## **PageRank**"
      ],
      "metadata": {
        "id": "6YWDBT5rnods"
      }
    },
    {
      "cell_type": "markdown",
      "source": [
        "first of all we need to compute the adjacency list, so that we can initialize the transition matrix $M$ so that $M_{ij}$ = $\\frac{1}{α}$, where $\\alpha$ is the number of outgoing edges from node $j$ (if there's a link from $j$ to $i$)"
      ],
      "metadata": {
        "id": "V2d5F62vn--t"
      }
    },
    {
      "cell_type": "code",
      "source": [
        "# TODO: find a more efficient way\n",
        "\n",
        "# list of couples (node_src, [iterable of dst nodes])\n",
        "adjacency_list = edges.groupByKey()"
      ],
      "metadata": {
        "id": "T6V-j6MwpWlo"
      },
      "execution_count": 86,
      "outputs": []
    },
    {
      "cell_type": "markdown",
      "source": [
        "now ```adjacency_list``` is a rdd in which each element is expressed ```(node, [neighbours])```. Since the transition matrix $M$ is heavily sparse, we are going to represent it using triplets $(i, j, M_{ij})$ only if $M_{ij} \\neq 0$\n",
        "\n",
        "**NOTE**: in this setting, we could potentially have many arcs from a certain node $A$ to another node $B$, because there could be many books for which user $B$ wrote a better review than user $A$.\n",
        "\n",
        "The idea in this case is to collapse all the possibile arcs from $A$ to $B$ in a single arc, but weighting the associated pageRank initial value according to the actual number of books for which $B$ obtained a better score with respect to $A$.\n",
        "\n",
        "So triplets are actually stored in the form $((i, j), M_{ij})$, so that it becomes easy to group triples with the same key $(i, j)$ and summing up all the contributes $M_{ij}$ associated with the same src-dest nodes.\n",
        "\n",
        "_Example:_\n",
        "- ```edges = [(A, B), (A, B), (A, C)]```\n",
        "- ```adjacency_list = [A, [B, B, C]]```\n",
        "- ```\n",
        "triplets (before grouping) = [\n",
        "    ((B, A), 1/3)\n",
        "    ((B, A), 1/3)\n",
        "    ((C, A), 1/3)\n",
        "]\n",
        "```\n",
        "- ```\n",
        "triplets (after grouping) = [\n",
        "    ((B, A), 2/3)\n",
        "    ((C, A), 1/3)\n",
        "]\n",
        "```\n",
        "\n"
      ],
      "metadata": {
        "id": "9ZiuQzMfQyik"
      }
    },
    {
      "cell_type": "code",
      "source": [
        "# if el is an element of the adjacency_list rdd,\n",
        "# el[0] => node\n",
        "# el[1] => list of neighbours of that node\n",
        "\n",
        "# NOTE: now the semantics of the triplets is (i, j, Mij) => (dst_node, src_node, value)\n",
        "# it's a bit counterintuitive, but COLUMNS REPRESENT SOURCE NODES, while ROWS REPRESENT DESTINATION NODES\n",
        "\n",
        "triplets = adjacency_list.flatMap(\n",
        "    lambda el: [((neighbour, el[0]), 1.0/len(el[1])) for neighbour in el[1] if len(el[1]) > 0]\n",
        ").reduceByKey(lambda x, y: x + y)"
      ],
      "metadata": {
        "id": "bNF8vdaaSaQr"
      },
      "execution_count": 87,
      "outputs": []
    },
    {
      "cell_type": "code",
      "source": [
        "print(f\"transition graph has {N} nodes and {triplets.count()} edges\")"
      ],
      "metadata": {
        "id": "pW9YIo0_TkYL",
        "outputId": "c6e8291b-26cd-4740-b12c-bdc8ba5e075d",
        "colab": {
          "base_uri": "https://localhost:8080/"
        }
      },
      "execution_count": 88,
      "outputs": [
        {
          "output_type": "stream",
          "name": "stdout",
          "text": [
            "transition graph has 15435 nodes and 2049866 edges\n"
          ]
        }
      ]
    },
    {
      "cell_type": "code",
      "source": [
        "# mapping back to canonical (i, j, Mij) form, for semplicity (and for coherence with lecture notes)\n",
        "M = triplets.map(lambda triplet: (triplet[0][0], triplet[0][1], triplet[1])).cache()"
      ],
      "metadata": {
        "id": "Ye3YvQlsTdTk"
      },
      "execution_count": 89,
      "outputs": []
    },
    {
      "cell_type": "code",
      "source": [
        "# CHECK: M should be column-wise stochastics, so column values should sum up to 1\n",
        "# m[1] -> column index\n",
        "# m[2] -> initial pageRank score for i, j nodes\n",
        "check = M.map(lambda m: (m[1], m[2])).reduceByKey(lambda x, y: x+y)\n",
        "# now we have key-value pairs such that key => column index j and value = SUM(M[i,j]) for i = 0, ..., # rows - 1.\n",
        "# Check if some values are far from 1 (with a tolerance of epsilon)\n",
        "epsilon = 1e-6\n",
        "far_from_one = check.filter(lambda pair: abs(pair[1] - 1.0) > epsilon).count()\n",
        "if far_from_one == 0: print(f\"M is column-wise stochastics\")\n",
        "else: print(f\"M IS NOT column-wise stochastics: there are {far_from_one} columns that doesn't sum up to 1\")"
      ],
      "metadata": {
        "colab": {
          "base_uri": "https://localhost:8080/"
        },
        "id": "DwiAJ3xapYSw",
        "outputId": "7830f830-b8cc-4f8b-fdce-9ba053ed73f7"
      },
      "execution_count": 90,
      "outputs": [
        {
          "output_type": "stream",
          "name": "stdout",
          "text": [
            "M is column-wise stochastics\n"
          ]
        }
      ]
    },
    {
      "cell_type": "markdown",
      "source": [
        "PageRank (with dumping factor β):\n",
        "$$\n",
        "\\begin{equation}\n",
        "    \\begin{cases}\n",
        "        v(0) = \\frac{1}{N}\\underline{1} \\\\\n",
        "        v(t+1) = \\beta Mv(t) + (1-\\beta)\\frac{1}{N}\\underline{1}  \n",
        "    \\end{cases}\\,\n",
        "\\end{equation}\n",
        "$$"
      ],
      "metadata": {
        "id": "XD4_b0R0NPVG"
      }
    },
    {
      "cell_type": "code",
      "source": [
        "def pageRank(M, v, max_iterations=100, tolerance=10e-5, beta=0.8):\n",
        "    iteration = 0\n",
        "    while iteration < max_iterations:\n",
        "        prev_v = v.copy()\n",
        "\n",
        "        # broadcast v to each node of the cluster\n",
        "        v_bdcast = sc.broadcast(v)\n",
        "\n",
        "        # matrix - vector multiplication (distributed)\n",
        "        pr_scores = M.map(lambda m: (m[0], m[2]*v_bdcast.value[m[1]])).reduceByKey(lambda x, y: x + y).collect()\n",
        "        # update vector v (local)\n",
        "        for (user, pr_score) in pr_scores: v[user] = beta * pr_score + (1 - beta) / N\n",
        "\n",
        "        dist = np.linalg.norm(v - prev_v)\n",
        "\n",
        "        if dist < tolerance:\n",
        "            print(f\"Convergence reached after {iteration} iterations with distance {dist}\")\n",
        "            break\n",
        "\n",
        "        print(f\"iteration {iteration}: distance = {dist}\")\n",
        "        iteration += 1\n",
        "    return v"
      ],
      "metadata": {
        "id": "tvaE9eQ206Kz"
      },
      "execution_count": 91,
      "outputs": []
    },
    {
      "cell_type": "code",
      "source": [
        "%%time\n",
        "v = np.ones(N) / N\n",
        "\n",
        "max_iterations = 100\n",
        "tolerance = 10e-5\n",
        "beta = 0.8\n",
        "\n",
        "pg_scores = pageRank(M, v, max_iterations=max_iterations, tolerance=tolerance, beta=beta)"
      ],
      "metadata": {
        "colab": {
          "base_uri": "https://localhost:8080/"
        },
        "id": "oMEdVy7kRfJi",
        "outputId": "616a8131-b495-4ffe-cfdf-82cca4e0cabc"
      },
      "execution_count": 92,
      "outputs": [
        {
          "output_type": "stream",
          "name": "stdout",
          "text": [
            "iteration 0: distance = 0.004508294288083763\n",
            "iteration 1: distance = 0.001392548552744607\n",
            "iteration 2: distance = 0.0005269557574718849\n",
            "iteration 3: distance = 0.00022173774433604593\n",
            "iteration 4: distance = 0.00011146929390574273\n",
            "Convergence reached after 5 iterations with distance 5.992418102615781e-05\n",
            "CPU times: user 522 ms, sys: 24.9 ms, total: 547 ms\n",
            "Wall time: 26.3 s\n"
          ]
        }
      ]
    },
    {
      "cell_type": "code",
      "source": [
        "k = 10\n",
        "pagerank_top_k_users = np.argsort(v)[-k:][::-1]\n",
        "print(f\"PageRank top {k} users\")\n",
        "for user in pagerank_top_k_users: print(f\"user id: {user} -> PageRank score: {v[user]}\")"
      ],
      "metadata": {
        "colab": {
          "base_uri": "https://localhost:8080/"
        },
        "id": "OmGtf3XTd61u",
        "outputId": "0d818b47-28ab-4a76-931a-c0a175f2d9f6"
      },
      "execution_count": 93,
      "outputs": [
        {
          "output_type": "stream",
          "name": "stdout",
          "text": [
            "PageRank top 10 users\n",
            "user id: 271 -> PageRank score: 0.0013815026485379056\n",
            "user id: 6510 -> PageRank score: 0.0008588802397190114\n",
            "user id: 2909 -> PageRank score: 0.0008068922060201434\n",
            "user id: 8066 -> PageRank score: 0.0006907966501004309\n",
            "user id: 6845 -> PageRank score: 0.0005986556961684647\n",
            "user id: 4729 -> PageRank score: 0.0005938403834758282\n",
            "user id: 3703 -> PageRank score: 0.0005904407361013377\n",
            "user id: 5559 -> PageRank score: 0.0005904407361013377\n",
            "user id: 8153 -> PageRank score: 0.0005904407361013377\n",
            "user id: 6841 -> PageRank score: 0.0005764279607395862\n"
          ]
        }
      ]
    },
    {
      "cell_type": "markdown",
      "source": [
        "## **HITS (Hubbs and Authorities)**"
      ],
      "metadata": {
        "id": "cMw_vvZRxZ3B"
      }
    },
    {
      "cell_type": "markdown",
      "source": [
        "For this algorithm we need two matrices, build from the graph:\n",
        "1. $L$, a $N \\times N$ matrix in which $L_{ij} = 1$ if there's a link from node $i$ to node $j$ in the graph, $0$ otherwise\n",
        "2. $L^T$, a $N \\times N$ matrix in which $L_{ij} = 1$ if there's a link from node $j$ to node $i$ in the graph, $0$ otherwise"
      ],
      "metadata": {
        "id": "tJUP39mexi6v"
      }
    },
    {
      "cell_type": "code",
      "source": [
        "# edges contains couples (node_src, node_dst), so it's easy to represent both L and its transposed in triplets form starting from edges\n",
        "L = edges.map(lambda couple: (couple[0], couple[1], 1.0)).cache()\n",
        "L_T = edges.map(lambda couple: (couple[1], couple[0], 1.0)).cache()"
      ],
      "metadata": {
        "id": "m7iDVZ2M0-z1"
      },
      "execution_count": 26,
      "outputs": []
    },
    {
      "cell_type": "code",
      "source": [
        "def HITS(L, L_T, authorities, hubs, max_iterations=100, tolerance=10e-5, beta=0.8):\n",
        "    iteration = 0\n",
        "    while iteration < max_iterations:\n",
        "        prev_hubs = hubs.copy()\n",
        "        prev_authorities = authorities.copy()\n",
        "\n",
        "        # broadcast hubs and authorities to each node of the cluster\n",
        "        hubs_bdcast = sc.broadcast(hubs)\n",
        "        authorities_bdcast = sc.broadcast(authorities)\n",
        "\n",
        "\n",
        "        # AUTHORITIES UPDATE\n",
        "        # matrix - vector multiplication (distributed)\n",
        "        authority_scores = L_T.map(lambda l: (l[0], l[2]*hubs_bdcast.value[l[1]])).reduceByKey(lambda x, y: x + y).collect()\n",
        "        # update authorities vector (local)\n",
        "        for (user, auth_score) in authority_scores: authorities[user] = auth_score\n",
        "        # authorities vector normalization\n",
        "        authorities /= np.linalg.norm(authorities)\n",
        "\n",
        "        # HUBS UPDATE\n",
        "        # matrix - vector multiplication (distributed)\n",
        "        hubs_scores = L.map(lambda l: (l[0], l[2]*authorities_bdcast.value[l[1]])).reduceByKey(lambda x, y: x + y).collect()\n",
        "        # update hubs vector (local)\n",
        "        for (user, hub_score) in hubs_scores: hubs[user] = hub_score\n",
        "        # hubs vector normalization\n",
        "        hubs /= np.linalg.norm(hubs)\n",
        "\n",
        "        hub_dist = np.linalg.norm(hubs - prev_hubs)\n",
        "        auth_dist = np.linalg.norm(authorities - prev_authorities)\n",
        "\n",
        "        if hub_dist < tolerance and auth_dist < tolerance:\n",
        "            print(f\"Convergence reached after {iteration} iterations with hubs distance = {hub_dist} | authorities distance = {auth_dist}\")\n",
        "            break\n",
        "        print(f\"iteration {iteration}: hubs distance = {hub_dist} | authorities distance = {auth_dist}\")\n",
        "\n",
        "        iteration += 1\n",
        "\n",
        "    return authorities, hubs"
      ],
      "metadata": {
        "id": "i9p6O7wQ2r-S"
      },
      "execution_count": 27,
      "outputs": []
    },
    {
      "cell_type": "code",
      "source": [
        "%%time\n",
        "\n",
        "# authority and hub vectors are indexed with users\n",
        "authorities = np.ones(N)\n",
        "hubs = np.ones(N)\n",
        "\n",
        "#authorities, hubs = HITS(L, L_T, authorities, hubs)"
      ],
      "metadata": {
        "id": "prOFkeT914nv",
        "outputId": "87b8907d-f683-41cd-de82-fc1e5dc6c56a",
        "colab": {
          "base_uri": "https://localhost:8080/"
        }
      },
      "execution_count": 28,
      "outputs": [
        {
          "output_type": "stream",
          "name": "stdout",
          "text": [
            "CPU times: user 103 µs, sys: 13 µs, total: 116 µs\n",
            "Wall time: 120 µs\n"
          ]
        }
      ]
    },
    {
      "cell_type": "code",
      "source": [
        "#HITS_top_k_users = np.argsort(authorities)[-k:][::-1]\n",
        "#print(f\"HITS top {k} users\")\n",
        "#for user in HITS_top_k_users: print(f\"user id: {user} -> Authority score: {authorities[user]}\")"
      ],
      "metadata": {
        "id": "XJF287nNZzSW"
      },
      "execution_count": 29,
      "outputs": []
    }
  ]
}